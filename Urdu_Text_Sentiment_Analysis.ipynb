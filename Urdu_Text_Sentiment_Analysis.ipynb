{
  "nbformat": 4,
  "nbformat_minor": 0,
  "metadata": {
    "colab": {
      "provenance": [],
      "mount_file_id": "1mq7c46DYLI0Tvad50T-qcPLxp2u5X6gM",
      "authorship_tag": "ABX9TyO65a403cxlomrv2crmb1fn",
      "include_colab_link": true
    },
    "kernelspec": {
      "name": "python3",
      "display_name": "Python 3"
    },
    "language_info": {
      "name": "python"
    }
  },
  "cells": [
    {
      "cell_type": "markdown",
      "metadata": {
        "id": "view-in-github",
        "colab_type": "text"
      },
      "source": [
        "<a href=\"https://colab.research.google.com/github/Musa-Ali-Kazmi/Urdu-Text-Sentiment-Analysis/blob/main/Urdu_Text_Sentiment_Analysis.ipynb\" target=\"_parent\"><img src=\"https://colab.research.google.com/assets/colab-badge.svg\" alt=\"Open In Colab\"/></a>"
      ]
    },
    {
      "cell_type": "code",
      "execution_count": 4,
      "metadata": {
        "id": "Rr8TU4UeGDzr",
        "colab": {
          "base_uri": "https://localhost:8080/"
        },
        "outputId": "b16628d3-5886-4151-b50f-85fdab2eb653"
      },
      "outputs": [
        {
          "output_type": "stream",
          "name": "stdout",
          "text": [
            "Archive:  /content/drive/MyDrive/DL-Assignment3/PMLN_predicted_tweets.csv.zip\n",
            "  inflating: /content/drive/MyDrive/DL-Assignment3/PMLN_predicted_tweets.csv  \n"
          ]
        }
      ],
      "source": [
        "!unzip \"/content/drive/MyDrive/DL-Assignment3/PMLN_predicted_tweets.csv.zip\" -d \"/content/drive/MyDrive/DL-Assignment3\""
      ]
    },
    {
      "cell_type": "code",
      "source": [
        "import pandas as pd"
      ],
      "metadata": {
        "id": "WFZdthwtjaSn"
      },
      "execution_count": 7,
      "outputs": []
    },
    {
      "cell_type": "code",
      "source": [
        "# Path to your CSV file\n",
        "csv_file_path = \"/content/drive/MyDrive/DL-Assignment3/PMLN_predicted_tweets.csv\"\n",
        "\n",
        "# Read the CSV file into a DataFrame\n",
        "df = pd.read_csv(csv_file_path)\n"
      ],
      "metadata": {
        "id": "mr47yO_OfisF"
      },
      "execution_count": 8,
      "outputs": []
    },
    {
      "cell_type": "code",
      "source": [
        "# Selecting only the specified columns\n",
        "df_subset = df.loc[:, [\"preprocessed_tweet\", \"language\", \"sentiment\"]]\n"
      ],
      "metadata": {
        "colab": {
          "base_uri": "https://localhost:8080/"
        },
        "id": "x-xoqNJNjXfy",
        "outputId": "4886c72d-a74a-4097-c211-ad0819384e49"
      },
      "execution_count": 9,
      "outputs": [
        {
          "output_type": "stream",
          "name": "stdout",
          "text": [
            "                                  preprocessed_tweet language  sentiment\n",
            "0                                       fb jazkallah       in          0\n",
            "1  ns nazriya lootmaar corruption or qabza nawaz ...       in          1\n",
            "2  q k tusiii ceritified international chorrrr ho...       in          0\n",
            "3  lo g ganjaaaa dobara gareeb awam topiannn pehn...       in          1\n",
            "4  chalo ap jeet itna bta do quran me if somoo sa...       in          1\n"
          ]
        }
      ]
    },
    {
      "cell_type": "code",
      "source": [
        "# Filtering rows where language is \"ur\"\n",
        "df_urdu = df_subset[df_subset['language'] == 'ur']\n",
        "\n",
        "# Display the first few rows of the filtered DataFrame\n",
        "print(df_urdu)"
      ],
      "metadata": {
        "colab": {
          "base_uri": "https://localhost:8080/"
        },
        "id": "5ElrLcJqi5MV",
        "outputId": "c27fcbe9-54fd-4830-d8e5-38a84c44f786"
      },
      "execution_count": 11,
      "outputs": [
        {
          "output_type": "stream",
          "name": "stdout",
          "text": [
            "                                       preprocessed_tweet language  sentiment\n",
            "34495                                 آج بھی جمعہ ہے ویسے       ur          0\n",
            "34496   واقعی نااہلی کے بعد نواز شریف کی مقبولیت میں ا...       ur          1\n",
            "34497   مریم نواز صاحبہ نے ثابت کیا ہے کہ وہ باپ کی کم...       ur          0\n",
            "34498       شکریہ لودھراں بہت اچھا گانا ہے ضرور دیکھیے گا       ur          0\n",
            "34499   ہیلی کاپٹر سے خود پھول پھنکوانےکے بعد جو میاں ...       ur          0\n",
            "...                                                   ...      ...        ...\n",
            "292598       نواز شریف کی آج کی تقریر واضح ہے افتخار احمد       ur          0\n",
            "292599  آل پارٹیز کانفرنس اے پی سی میں بھی اپوزیشن جما...       ur          0\n",
            "292600  تو کیا کے جلسے میں ایسا نہیں ہوتا انکو کیوں وو...       ur          1\n",
            "292601  سال سے اقتدار کے مزے لوٹ رہے ہیں اور سارے جہاں...       ur          1\n",
            "292602  یہ وہی بریگیڈئر ہیں جنکا عمران خان ذکر کرتے رہ...       ur          0\n",
            "\n",
            "[258102 rows x 3 columns]\n"
          ]
        }
      ]
    },
    {
      "cell_type": "code",
      "source": [],
      "metadata": {
        "id": "ps2nyF2ujx7G"
      },
      "execution_count": null,
      "outputs": []
    }
  ]
}