{
  "nbformat": 4,
  "nbformat_minor": 0,
  "metadata": {
    "colab": {
      "provenance": [],
      "mount_file_id": "1mq7c46DYLI0Tvad50T-qcPLxp2u5X6gM",
      "authorship_tag": "ABX9TyNn9FQ37cJA5OTBup1aG3qi",
      "include_colab_link": true
    },
    "kernelspec": {
      "name": "python3",
      "display_name": "Python 3"
    },
    "language_info": {
      "name": "python"
    }
  },
  "cells": [
    {
      "cell_type": "markdown",
      "metadata": {
        "id": "view-in-github",
        "colab_type": "text"
      },
      "source": [
        "<a href=\"https://colab.research.google.com/github/Musa-Ali-Kazmi/Urdu-Text-Sentiment-Analysis/blob/main/Urdu_Text_Sentiment_Analysis.ipynb\" target=\"_parent\"><img src=\"https://colab.research.google.com/assets/colab-badge.svg\" alt=\"Open In Colab\"/></a>"
      ]
    },
    {
      "cell_type": "code",
      "execution_count": 32,
      "metadata": {
        "id": "Rr8TU4UeGDzr",
        "colab": {
          "base_uri": "https://localhost:8080/"
        },
        "outputId": "2c6075ee-2c62-4a1c-a974-1c4b6558bc34"
      },
      "outputs": [
        {
          "output_type": "stream",
          "name": "stdout",
          "text": [
            "Archive:  /content/drive/MyDrive/DL-Assignment3/imdb_urdu_reviews_test.csv.zip\n",
            "  inflating: /content/drive/MyDrive/DL-Assignment3/imdb_urdu_reviews_test.csv  \n"
          ]
        }
      ],
      "source": [
        "!unzip \"/content/drive/MyDrive/DL-Assignment3/imdb_urdu_reviews_test.csv.zip\" -d \"/content/drive/MyDrive/DL-Assignment3\""
      ]
    },
    {
      "cell_type": "code",
      "source": [
        "import pandas as pd"
      ],
      "metadata": {
        "id": "WFZdthwtjaSn"
      },
      "execution_count": null,
      "outputs": []
    },
    {
      "cell_type": "code",
      "source": [
        "# Path to your CSV file\n",
        "csv_file_path = \"/content/drive/MyDrive/DL-Assignment3/imdb_urdu_reviews_test.csv.zip\"\n",
        "\n",
        "# Read the CSV file into a DataFrame\n",
        "df_urdu = pd.read_csv(csv_file_path)\n"
      ],
      "metadata": {
        "id": "mr47yO_OfisF"
      },
      "execution_count": 35,
      "outputs": []
    },
    {
      "cell_type": "code",
      "source": [
        "!pip install urduhack"
      ],
      "metadata": {
        "id": "ps2nyF2ujx7G"
      },
      "execution_count": null,
      "outputs": []
    },
    {
      "cell_type": "code",
      "source": [
        "import urduhack\n",
        "urduhack.download()\n",
        "from urduhack.normalization import normalize"
      ],
      "metadata": {
        "colab": {
          "base_uri": "https://localhost:8080/"
        },
        "id": "vp669On4o5XX",
        "outputId": "d8d7eb40-6cee-47fa-91fb-1e7e1ed4a19c"
      },
      "execution_count": null,
      "outputs": [
        {
          "output_type": "stream",
          "name": "stdout",
          "text": [
            "Downloading data from https://github.com/urduhack/resources/releases/download/word_tokenizer/word_tokenizer.zip\n",
            "36788015/36788015 [==============================] - 0s 0us/step\n",
            "Downloading data from https://github.com/urduhack/resources/releases/download/pos_tagger/pos_tagger.zip\n",
            "2761433/2761433 [==============================] - 0s 0us/step\n",
            "Downloading data from https://github.com/urduhack/resources/releases/download/ner/ner.zip\n",
            "11723346/11723346 [==============================] - 0s 0us/step\n",
            "Downloading data from https://github.com/urduhack/resources/releases/download/lemmatizer/ur_lemma_lookup.zip\n",
            "89078/89078 [==============================] - 0s 0us/step\n"
          ]
        }
      ]
    },
    {
      "cell_type": "code",
      "source": [
        "from urduhack.preprocessing import normalize_whitespace, remove_punctuation, remove_accents, replace_urls, replace_emails, replace_numbers, replace_currency_symbols"
      ],
      "metadata": {
        "id": "JmQfZDnQpSRd"
      },
      "execution_count": null,
      "outputs": []
    },
    {
      "cell_type": "code",
      "source": [
        "import seaborn as sns\n",
        "sns.countplot(x = \"sentiment\", data = df)"
      ],
      "metadata": {
        "colab": {
          "base_uri": "https://localhost:8080/",
          "height": 466
        },
        "id": "4sSgPz47qoOg",
        "outputId": "18d8f31f-893d-4176-e8b1-8e073361d68d"
      },
      "execution_count": 36,
      "outputs": [
        {
          "output_type": "execute_result",
          "data": {
            "text/plain": [
              "<Axes: xlabel='sentiment', ylabel='count'>"
            ]
          },
          "metadata": {},
          "execution_count": 36
        },
        {
          "output_type": "display_data",
          "data": {
            "text/plain": [
              "<Figure size 640x480 with 1 Axes>"
            ],
            "image/png": "[encoded data removed]"
          },
          "metadata": {}
        }
      ]
    },
    {
      "cell_type": "code",
      "source": [
        "from sklearn.preprocessing import LabelEncoder"
      ],
      "metadata": {
        "id": "H_Z1lhafBttI"
      },
      "execution_count": 57,
      "outputs": []
    },
    {
      "cell_type": "code",
      "source": [
        "# encoding the labels\n",
        "le = LabelEncoder()\n",
        "le.fit(df_urdu['sentiment'])\n",
        "df_urdu['encoded_label'] = le.transform(df_urdu['sentiment'])"
      ],
      "metadata": {
        "id": "HG43nfS6BHc7"
      },
      "execution_count": 58,
      "outputs": []
    },
    {
      "cell_type": "code",
      "source": [
        "df_urdu['review'] = df_urdu['review'].apply(normalize)\n",
        "df_urdu['review'] = df_urdu['review'].apply(remove_accents)\n",
        "df_urdu['review'] = df_urdu['review'].apply(replace_urls)\n",
        "df_urdu['review'] = df_urdu['review'].apply(replace_emails)\n",
        "df_urdu['review'] = df_urdu['review'].apply(replace_currency_symbols)"
      ],
      "metadata": {
        "id": "lzsWVj39q2Od"
      },
      "execution_count": 38,
      "outputs": []
    },
    {
      "cell_type": "code",
      "source": [
        "from typing import FrozenSet\n",
        "STOP_WORDS: FrozenSet[str] = frozenset(\"\"\"اب\n",
        "ابھی\n",
        "اپنا\n",
        "اپنے\n",
        "اپنی\n",
        "اٹھا\n",
        "اس\n",
        "اسے\n",
        "اسی\n",
        "اگر\n",
        "ان\n",
        "انہوں\n",
        "انہی\n",
        "انہیں\n",
        "انھیں\n",
        "او\n",
        "اور\n",
        "اے\n",
        "ایسا\n",
        "ایسے\n",
        "ایسی\n",
        "ایک\n",
        "آ\n",
        "آپ\n",
        "آتا\n",
        "آتے\n",
        "آتی\n",
        "آگے\n",
        "آنا\n",
        "آنے\n",
        "آنی\n",
        "آئے\n",
        "آئی\n",
        "آئیں\n",
        "آیا\n",
        "با\n",
        "بڑا\n",
        "بڑے\n",
        "بڑی\n",
        "بعد\n",
        "بعض\n",
        "بلکہ\n",
        "بہت\n",
        "بھی\n",
        "بے\n",
        "پاس\n",
        "پر\n",
        "پہلے\n",
        "پھر\n",
        "تا\n",
        "تاکہ\n",
        "تب\n",
        "تجھ\n",
        "تجھے\n",
        "تک\n",
        "تم\n",
        "تمام\n",
        "تمہارا\n",
        "تمہارے\n",
        "تمھارے\n",
        "تمہاری\n",
        "تمہیں\n",
        "تمھیں\n",
        "تھا\n",
        "تھے\n",
        "تھی\n",
        "تھیں\n",
        "تو\n",
        "تیری\n",
        "تیرے\n",
        "جا\n",
        "جاتا\n",
        "جاتی\n",
        "جاتے\n",
        "جاتی\n",
        "جانے\n",
        "جانی\n",
        "جاؤ\n",
        "جائے\n",
        "جائیں\n",
        "جب\n",
        "جس\n",
        "جن\n",
        "جنہوں\n",
        "جنہیں\n",
        "جو\n",
        "جیسا\n",
        "جیسے\n",
        "جیسی\n",
        "جیسوں\n",
        "چاہیئے\n",
        "چلا\n",
        "چاہے\n",
        "چونکہ\n",
        "حالاں\n",
        "حالانکہ\n",
        "دو\n",
        "دونوں\n",
        "دوں\n",
        "دے\n",
        "دی\n",
        "دیا\n",
        "دیں\n",
        "دیے\n",
        "دیتا\n",
        "دیتے\n",
        "دیتی\n",
        "دینا\n",
        "دینے\n",
        "دینی\n",
        "دیئے\n",
        "ڈالا\n",
        "ڈالنا\n",
        "ڈالنے\n",
        "ڈالنی\n",
        "ڈالے\n",
        "ڈالی\n",
        "ذرا\n",
        "رکھا\n",
        "رکھتا\n",
        "رکھتے\n",
        "رکھتی\n",
        "رکھنا\n",
        "رکھنے\n",
        "رکھنی\n",
        "رکھے\n",
        "رکھی\n",
        "رہ\n",
        "رہا\n",
        "رہتا\n",
        "رہتے\n",
        "رہتی\n",
        "رہنا\n",
        "رہنے\n",
        "رہنی\n",
        "رہو\n",
        "رہے\n",
        "رہی\n",
        "رہیں\n",
        "زیادہ\n",
        "سا\n",
        "سامنے\n",
        "سب\n",
        "سکتا\n",
        "سو\n",
        "سے\n",
        "سی\n",
        "شاید\n",
        "صرف\n",
        "طرح\n",
        "طرف\n",
        "عین\n",
        "کا\n",
        "کبھی\n",
        "کچھ\n",
        "کہہ\n",
        "کر\n",
        "کرتا\n",
        "کرتے\n",
        "کرتی\n",
        "کرنا\n",
        "کرنے\n",
        "کرو\n",
        "کروں\n",
        "کرے\n",
        "کریں\n",
        "کس\n",
        "کسے\n",
        "کسی\n",
        "کہ\n",
        "کہا\n",
        "کہے\n",
        "کو\n",
        "کون\n",
        "کوئی\n",
        "کے\n",
        "کی\n",
        "کیا\n",
        "کیسے\n",
        "کیوں\n",
        "کیونکہ\n",
        "کیے\n",
        "کئے\n",
        "گا\n",
        "گویا\n",
        "گے\n",
        "گی\n",
        "گیا\n",
        "گئے\n",
        "گئی\n",
        "لا\n",
        "لاتا\n",
        "لاتے\n",
        "لاتی\n",
        "لانا\n",
        "لانے\n",
        "لانی\n",
        "لایا\n",
        "لائے\n",
        "لائی\n",
        "لگا\n",
        "لگے\n",
        "لگی\n",
        "لگیں\n",
        "لو\n",
        "لے\n",
        "لی\n",
        "لیا\n",
        "لیتا\n",
        "لیتے\n",
        "لیتی\n",
        "لیکن\n",
        "لیں\n",
        "لیے\n",
        "لئے\n",
        "مجھ\n",
        "مجھے\n",
        "مگر\n",
        "میرا\n",
        "میرے\n",
        "میری\n",
        "میں\n",
        "نا\n",
        "نہ\n",
        "نہایت\n",
        "نہیں\n",
        "نے\n",
        "ہاں\n",
        "ہر\n",
        "ہم\n",
        "ہمارا\n",
        "ہمارے\n",
        "ہماری\n",
        "ہو\n",
        "ہوا\n",
        "ہوتا\n",
        "ہوتے\n",
        "ہوتی\n",
        "ہوتیں\n",
        "ہوں\n",
        "ہونا\n",
        "ہونگے\n",
        "ہونے\n",
        "ہونی\n",
        "ہوئے\n",
        "ہوئی\n",
        "ہوئیں\n",
        "ہے\n",
        "ہی\n",
        "ہیں\n",
        "و\n",
        "والا\n",
        "والوں\n",
        "والے\n",
        "والی\n",
        "وہ\n",
        "وہاں\n",
        "وہی\n",
        "وہیں\n",
        "یا\n",
        "یعنی\n",
        "یہ\n",
        "یہاں\n",
        "یہی\n",
        "یہیں\"\"\".split())\n",
        "\n",
        "def remove_stopwords(text: str):\n",
        "  return \" \".join(word for word in text.split() if word not in STOP_WORDS)"
      ],
      "metadata": {
        "id": "9H7k2_mntdIU"
      },
      "execution_count": 46,
      "outputs": []
    },
    {
      "cell_type": "code",
      "source": [
        "len(STOP_WORDS)"
      ],
      "metadata": {
        "colab": {
          "base_uri": "https://localhost:8080/"
        },
        "id": "eNtdumka1y42",
        "outputId": "3a35335f-a7bc-4c1c-864a-ff31a667a79a"
      },
      "execution_count": 47,
      "outputs": [
        {
          "output_type": "execute_result",
          "data": {
            "text/plain": [
              "264"
            ]
          },
          "metadata": {},
          "execution_count": 47
        }
      ]
    },
    {
      "cell_type": "code",
      "source": [
        "df_urdu[[\"review\"]].head(3)"
      ],
      "metadata": {
        "colab": {
          "base_uri": "https://localhost:8080/",
          "height": 143
        },
        "id": "7qaTcHNn2FgZ",
        "outputId": "83253b6c-1046-4c2e-8af8-43d8c835aa89"
      },
      "execution_count": 48,
      "outputs": [
        {
          "output_type": "execute_result",
          "data": {
            "text/plain": [
              "                                              review\n",
              "0  یہ بے گھر خواتین کے بارے میں ایک دستاویزی فلم ...\n",
              "1  بالکل بھی اچھ ،ی کام نہیں کیا گیا ، پوری فلم ص...\n",
              "2  یہ عجیب بات ہے کہ کچھ لوگوں کا کیا حشر ہوتا ہے..."
            ],
            "text/html": [
              "\n",
              "  <div id=\"df-11a1337c-6509-43ef-a2d3-3126af84df93\" class=\"colab-df-container\">\n",
              "    <div>\n",
              "<style scoped>\n",
              "    .dataframe tbody tr th:only-of-type {\n",
              "        vertical-align: middle;\n",
              "    }\n",
              "\n",
              "    .dataframe tbody tr th {\n",
              "        vertical-align: top;\n",
              "    }\n",
              "\n",
              "    .dataframe thead th {\n",
              "        text-align: right;\n",
              "    }\n",
              "</style>\n",
              "<table border=\"1\" class=\"dataframe\">\n",
              "  <thead>\n",
              "    <tr style=\"text-align: right;\">\n",
              "      <th></th>\n",
              "      <th>review</th>\n",
              "    </tr>\n",
              "  </thead>\n",
              "  <tbody>\n",
              "    <tr>\n",
              "      <th>0</th>\n",
              "      <td>یہ بے گھر خواتین کے بارے میں ایک دستاویزی فلم ...</td>\n",
              "    </tr>\n",
              "    <tr>\n",
              "      <th>1</th>\n",
              "      <td>بالکل بھی اچھ ،ی کام نہیں کیا گیا ، پوری فلم ص...</td>\n",
              "    </tr>\n",
              "    <tr>\n",
              "      <th>2</th>\n",
              "      <td>یہ عجیب بات ہے کہ کچھ لوگوں کا کیا حشر ہوتا ہے...</td>\n",
              "    </tr>\n",
              "  </tbody>\n",
              "</table>\n",
              "</div>\n",
              "    <div class=\"colab-df-buttons\">\n",
              "\n",
              "  <div class=\"colab-df-container\">\n",
              "    <button class=\"colab-df-convert\" onclick=\"convertToInteractive('df-11a1337c-6509-43ef-a2d3-3126af84df93')\"\n",
              "            title=\"Convert this dataframe to an interactive table.\"\n",
              "            style=\"display:none;\">\n",
              "\n",
              "  <svg xmlns=\"http://www.w3.org/2000/svg\" height=\"24px\" viewBox=\"0 -960 960 960\">\n",
              "    <path d=\"M120-120v-720h720v720H120Zm60-500h600v-160H180v160Zm220 220h160v-160H400v160Zm0 220h160v-160H400v160ZM180-400h160v-160H180v160Zm440 0h160v-160H620v160ZM180-180h160v-160H180v160Zm440 0h160v-160H620v160Z\"/>\n",
              "  </svg>\n",
              "    </button>\n",
              "\n",
              "  <style>\n",
              "    .colab-df-container {\n",
              "      display:flex;\n",
              "      gap: 12px;\n",
              "    }\n",
              "\n",
              "    .colab-df-convert {\n",
              "      background-color: #E8F0FE;\n",
              "      border: none;\n",
              "      border-radius: 50%;\n",
              "      cursor: pointer;\n",
              "      display: none;\n",
              "      fill: #1967D2;\n",
              "      height: 32px;\n",
              "      padding: 0 0 0 0;\n",
              "      width: 32px;\n",
              "    }\n",
              "\n",
              "    .colab-df-convert:hover {\n",
              "      background-color: #E2EBFA;\n",
              "      box-shadow: 0px 1px 2px rgba(60, 64, 67, 0.3), 0px 1px 3px 1px rgba(60, 64, 67, 0.15);\n",
              "      fill: #174EA6;\n",
              "    }\n",
              "\n",
              "    .colab-df-buttons div {\n",
              "      margin-bottom: 4px;\n",
              "    }\n",
              "\n",
              "    [theme=dark] .colab-df-convert {\n",
              "      background-color: #3B4455;\n",
              "      fill: #D2E3FC;\n",
              "    }\n",
              "\n",
              "    [theme=dark] .colab-df-convert:hover {\n",
              "      background-color: #434B5C;\n",
              "      box-shadow: 0px 1px 3px 1px rgba(0, 0, 0, 0.15);\n",
              "      filter: drop-shadow(0px 1px 2px rgba(0, 0, 0, 0.3));\n",
              "      fill: #FFFFFF;\n",
              "    }\n",
              "  </style>\n",
              "\n",
              "    <script>\n",
              "      const buttonEl =\n",
              "        document.querySelector('#df-11a1337c-6509-43ef-a2d3-3126af84df93 button.colab-df-convert');\n",
              "      buttonEl.style.display =\n",
              "        google.colab.kernel.accessAllowed ? 'block' : 'none';\n",
              "\n",
              "      async function convertToInteractive(key) {\n",
              "        const element = document.querySelector('#df-11a1337c-6509-43ef-a2d3-3126af84df93');\n",
              "        const dataTable =\n",
              "          await google.colab.kernel.invokeFunction('convertToInteractive',\n",
              "                                                    [key], {});\n",
              "        if (!dataTable) return;\n",
              "\n",
              "        const docLinkHtml = 'Like what you see? Visit the ' +\n",
              "          '<a target=\"_blank\" href=https://colab.research.google.com/notebooks/data_table.ipynb>data table notebook</a>'\n",
              "          + ' to learn more about interactive tables.';\n",
              "        element.innerHTML = '';\n",
              "        dataTable['output_type'] = 'display_data';\n",
              "        await google.colab.output.renderOutput(dataTable, element);\n",
              "        const docLink = document.createElement('div');\n",
              "        docLink.innerHTML = docLinkHtml;\n",
              "        element.appendChild(docLink);\n",
              "      }\n",
              "    </script>\n",
              "  </div>\n",
              "\n",
              "\n",
              "<div id=\"df-073f5b87-0c76-4199-831d-a7a77859b81c\">\n",
              "  <button class=\"colab-df-quickchart\" onclick=\"quickchart('df-073f5b87-0c76-4199-831d-a7a77859b81c')\"\n",
              "            title=\"Suggest charts\"\n",
              "            style=\"display:none;\">\n",
              "\n",
              "<svg xmlns=\"http://www.w3.org/2000/svg\" height=\"24px\"viewBox=\"0 0 24 24\"\n",
              "     width=\"24px\">\n",
              "    <g>\n",
              "        <path d=\"M19 3H5c-1.1 0-2 .9-2 2v14c0 1.1.9 2 2 2h14c1.1 0 2-.9 2-2V5c0-1.1-.9-2-2-2zM9 17H7v-7h2v7zm4 0h-2V7h2v10zm4 0h-2v-4h2v4z\"/>\n",
              "    </g>\n",
              "</svg>\n",
              "  </button>\n",
              "\n",
              "<style>\n",
              "  .colab-df-quickchart {\n",
              "      --bg-color: #E8F0FE;\n",
              "      --fill-color: #1967D2;\n",
              "      --hover-bg-color: #E2EBFA;\n",
              "      --hover-fill-color: #174EA6;\n",
              "      --disabled-fill-color: #AAA;\n",
              "      --disabled-bg-color: #DDD;\n",
              "  }\n",
              "\n",
              "  [theme=dark] .colab-df-quickchart {\n",
              "      --bg-color: #3B4455;\n",
              "      --fill-color: #D2E3FC;\n",
              "      --hover-bg-color: #434B5C;\n",
              "      --hover-fill-color: #FFFFFF;\n",
              "      --disabled-bg-color: #3B4455;\n",
              "      --disabled-fill-color: #666;\n",
              "  }\n",
              "\n",
              "  .colab-df-quickchart {\n",
              "    background-color: var(--bg-color);\n",
              "    border: none;\n",
              "    border-radius: 50%;\n",
              "    cursor: pointer;\n",
              "    display: none;\n",
              "    fill: var(--fill-color);\n",
              "    height: 32px;\n",
              "    padding: 0;\n",
              "    width: 32px;\n",
              "  }\n",
              "\n",
              "  .colab-df-quickchart:hover {\n",
              "    background-color: var(--hover-bg-color);\n",
              "    box-shadow: 0 1px 2px rgba(60, 64, 67, 0.3), 0 1px 3px 1px rgba(60, 64, 67, 0.15);\n",
              "    fill: var(--button-hover-fill-color);\n",
              "  }\n",
              "\n",
              "  .colab-df-quickchart-complete:disabled,\n",
              "  .colab-df-quickchart-complete:disabled:hover {\n",
              "    background-color: var(--disabled-bg-color);\n",
              "    fill: var(--disabled-fill-color);\n",
              "    box-shadow: none;\n",
              "  }\n",
              "\n",
              "  .colab-df-spinner {\n",
              "    border: 2px solid var(--fill-color);\n",
              "    border-color: transparent;\n",
              "    border-bottom-color: var(--fill-color);\n",
              "    animation:\n",
              "      spin 1s steps(1) infinite;\n",
              "  }\n",
              "\n",
              "  @keyframes spin {\n",
              "    0% {\n",
              "      border-color: transparent;\n",
              "      border-bottom-color: var(--fill-color);\n",
              "      border-left-color: var(--fill-color);\n",
              "    }\n",
              "    20% {\n",
              "      border-color: transparent;\n",
              "      border-left-color: var(--fill-color);\n",
              "      border-top-color: var(--fill-color);\n",
              "    }\n",
              "    30% {\n",
              "      border-color: transparent;\n",
              "      border-left-color: var(--fill-color);\n",
              "      border-top-color: var(--fill-color);\n",
              "      border-right-color: var(--fill-color);\n",
              "    }\n",
              "    40% {\n",
              "      border-color: transparent;\n",
              "      border-right-color: var(--fill-color);\n",
              "      border-top-color: var(--fill-color);\n",
              "    }\n",
              "    60% {\n",
              "      border-color: transparent;\n",
              "      border-right-color: var(--fill-color);\n",
              "    }\n",
              "    80% {\n",
              "      border-color: transparent;\n",
              "      border-right-color: var(--fill-color);\n",
              "      border-bottom-color: var(--fill-color);\n",
              "    }\n",
              "    90% {\n",
              "      border-color: transparent;\n",
              "      border-bottom-color: var(--fill-color);\n",
              "    }\n",
              "  }\n",
              "</style>\n",
              "\n",
              "  <script>\n",
              "    async function quickchart(key) {\n",
              "      const quickchartButtonEl =\n",
              "        document.querySelector('#' + key + ' button');\n",
              "      quickchartButtonEl.disabled = true;  // To prevent multiple clicks.\n",
              "      quickchartButtonEl.classList.add('colab-df-spinner');\n",
              "      try {\n",
              "        const charts = await google.colab.kernel.invokeFunction(\n",
              "            'suggestCharts', [key], {});\n",
              "      } catch (error) {\n",
              "        console.error('Error during call to suggestCharts:', error);\n",
              "      }\n",
              "      quickchartButtonEl.classList.remove('colab-df-spinner');\n",
              "      quickchartButtonEl.classList.add('colab-df-quickchart-complete');\n",
              "    }\n",
              "    (() => {\n",
              "      let quickchartButtonEl =\n",
              "        document.querySelector('#df-073f5b87-0c76-4199-831d-a7a77859b81c button');\n",
              "      quickchartButtonEl.style.display =\n",
              "        google.colab.kernel.accessAllowed ? 'block' : 'none';\n",
              "    })();\n",
              "  </script>\n",
              "</div>\n",
              "    </div>\n",
              "  </div>\n"
            ],
            "application/vnd.google.colaboratory.intrinsic+json": {
              "type": "dataframe",
              "summary": "{\n  \"name\": \"df_urdu[[\\\"review\\\"]]\",\n  \"rows\": 3,\n  \"fields\": [\n    {\n      \"column\": \"review\",\n      \"properties\": {\n        \"dtype\": \"string\",\n        \"num_unique_values\": 3,\n        \"samples\": [\n          \"\\u06cc\\u06c1 \\u0628\\u06d2 \\u06af\\u06be\\u0631 \\u062e\\u0648\\u0627\\u062a\\u06cc\\u0646 \\u06a9\\u06d2 \\u0628\\u0627\\u0631\\u06d2 \\u0645\\u06cc\\u06ba \\u0627\\u06cc\\u06a9 \\u062f\\u0633\\u062a\\u0627\\u0648\\u06cc\\u0632\\u06cc \\u0641\\u0644\\u0645 \\u06c1\\u06d2\\u06d4 \\u0627\\u0633 \\u0644\\u062d\\u0627\\u0638 \\u0633\\u06d2 \\u06cc\\u06c1 \\u062f\\u0644\\u0686\\u0633\\u067e \\u0628\\u0627\\u062a \\u06c1\\u06d2 \\u06a9\\u06c1 \\u0627\\u0633 \\u06a9\\u06cc \\u062a\\u0648\\u062c\\u06c1 \\u0627\\u0646 \\u062e\\u0648\\u0627\\u062a\\u06cc\\u0646 \\u067e\\u0631 \\u0645\\u0631\\u06a9\\u0648\\u0632 \\u06c1\\u06d2 \\u062c\\u0648 \\u0645\\u0639\\u0627\\u0634\\u0631\\u062a\\u06cc \\u0637\\u0648\\u0631 \\u067e\\u0631 \\u0645\\u0635\\u0631\\u0648\\u0641 \\u06c1\\u06cc\\u06ba - \\u0645\\u0644\\u0627\\u0632\\u0645\\u062a\\u06cc\\u06ba \\u0627\\u0648\\u0631 \\u062f\\u06cc\\u0631\\u067e\\u0627 \\u062f\\u0648\\u0633\\u062a\\u06cc - \\u0644\\u06cc\\u06a9\\u0646 \\u0627\\u06cc\\u0633\\u06cc \\u0635\\u0648\\u0631\\u062a\\u062d\\u0627\\u0644 \\u0645\\u06cc\\u06ba \\u06c1\\u06cc\\u06ba \\u062c\\u06c1\\u0627\\u06ba \\u0648\\u06c1 \\u0631\\u06c1\\u0627\\u0626\\u0634 \\u06a9\\u0627 \\u0645\\u062a\\u062d\\u0645\\u0644 \\u0646\\u06c1\\u06cc\\u06ba \\u06c1\\u0648\\u0633\\u06a9\\u062a\\u06d2 \\u06c1\\u06cc\\u06ba\\u06d4 \\u0645\\u062c\\u06be\\u06d2 \\u06a9\\u0686\\u06be \\u062e\\u0648\\u0627\\u062a\\u06cc\\u0646 \\u062f\\u0644\\u0686\\u0633\\u067e \\u0645\\u0639\\u0644\\u0648\\u0645 \\u06c1\\u0648\\u0626\\u06cc\\u06ba \\u060c \\u0644\\u06cc\\u06a9\\u0646 \\u0627\\u0633 \\u0645\\u06cc\\u06ba \\u0628\\u06c1\\u062a \\u06a9\\u0645 \\u062a\\u0648\\u062c\\u06c1 \\u062f\\u06cc \\u06af\\u0626\\u06cc \\u06cc\\u0627 \\u06a9\\u06c1\\u0627\\u0646\\u06cc \\u0645\\u06cc\\u06ba \\u062a\\u0631\\u0642\\u06cc. \\u0633\\u0645\\u062a \\u0627\\u0648\\u0631 \\u062a\\u0631\\u0645\\u06cc\\u0645 \\u0645\\u06cc\\u0631\\u06cc \\u062a\\u0648\\u062c\\u06c1 \\u0628\\u0631\\u0642\\u0631\\u0627\\u0631 \\u0631\\u06a9\\u06be\\u0646\\u06d2 \\u0645\\u06cc\\u06ba \\u0646\\u0627\\u06a9\\u0627\\u0645 \\u0631\\u06c1\\u06cc\\u06d4 \\u06cc\\u0642\\u06cc\\u0646\\u0627 these \\u0627\\u0646 \\u062e\\u0648\\u0627\\u062a\\u06cc\\u0646 \\u06a9\\u06cc \\u06a9\\u06c1\\u0627\\u0646\\u06cc\\u0648\\u06ba \\u0645\\u06cc\\u06ba \\u0628\\u06be\\u06cc \\u0627\\u062e\\u062a\\u0644\\u0627\\u0641\\u0627\\u062a \\u062a\\u06be\\u06d2 \\u060c \\u0644\\u06cc\\u06a9\\u0646 \\u067e\\u06cc\\u063a\\u0627\\u0645 \\u0628\\u0646\\u06cc\\u0627\\u062f\\u06cc \\u0637\\u0648\\u0631 \\u067e\\u0631 \\u0627\\u06cc\\u06a9 \\u06c1\\u06cc \\u062a\\u06be\\u0627 \\u0627\\u0648\\u0631 \\u0632\\u06cc\\u0627\\u062f\\u06c1 \\u0633\\u06d2 \\u0632\\u06cc\\u0627\\u062f\\u06c1 \\u06af\\u06c1\\u0631\\u0627\\u0626\\u06cc \\u0645\\u06cc\\u06ba \\u0627\\u0646 \\u0645\\u06cc\\u06ba \\u0633\\u06d2 \\u06a9\\u0633\\u06cc \\u067e\\u0631 \\u062a\\u0648\\u062c\\u06c1 \\u0645\\u0631\\u06a9\\u0648\\u0632 \\u06a9\\u0631\\u06a9\\u06d2 \\u0628\\u062a\\u0627\\u06cc\\u0627 \\u062c\\u0627\\u0633\\u06a9\\u062a\\u0627 \\u062a\\u06be\\u0627\\u06d4 \\u0645\\u06cc\\u06ba \\u0646\\u06d2 \\u0627\\u0633\\u06d2 \\u0641\\u0644\\u0645 \\u06a9\\u06d2 \\u0627\\u062e\\u062a\\u062a\\u0627\\u0645 \\u062a\\u06a9 \\u067e\\u06c1\\u0646\\u0686\\u0627 \\u062f\\u06cc\\u0627 \\u060c \\u0644\\u06cc\\u06a9\\u0646 \\u06cc\\u06c1 \\u0627\\u06cc\\u06a9 \\u0627\\u06cc\\u0633\\u06cc \\u0641\\u0644\\u0645 \\u062a\\u06be\\u06cc \\u0628\\u0644\\u06a9\\u06c1 \\u0628\\u0648\\u0631\\u0646\\u06af \\u0633\\u0641\\u0631\\u06d4\",\n          \"\\u0628\\u0627\\u0644\\u06a9\\u0644 \\u0628\\u06be\\u06cc \\u0627\\u0686\\u06be \\u060c\\u06cc \\u06a9\\u0627\\u0645 \\u0646\\u06c1\\u06cc\\u06ba \\u06a9\\u06cc\\u0627 \\u06af\\u06cc\\u0627 \\u060c \\u067e\\u0648\\u0631\\u06cc \\u0641\\u0644\\u0645 \\u0635\\u0631\\u0641 \\u06af\\u0631\\u0688\\u062c \\u062a\\u06be\\u06cc \\u0627\\u0648\\u0631 \\u06a9\\u06c1\\u06cc\\u06ba \\u0628\\u06be\\u06cc \\u0628\\u06d2 \\u062a\\u0631\\u062a\\u06cc\\u0628 \\u0644\\u0648\\u06af\\u0648\\u06ba \\u06a9\\u0648 \\u06c1\\u0644\\u0627\\u06a9 \\u0646\\u06c1\\u06cc\\u06ba \\u06a9\\u0631\\u062a\\u06cc \\u062a\\u06be\\u06cc\\u06d4 \\u0628\\u06d2 \\u062a\\u0631\\u062a\\u06cc\\u0628 \\u0644\\u0648\\u06af \\u062c\\u0646 \\u06a9\\u0627 \\u06a9\\u06c1\\u0627\\u0646\\u06cc \\u0633\\u06d2 \\u06a9\\u0648\\u0626\\u06cc \\u0644\\u06cc\\u0646\\u0627 \\u062f\\u06cc\\u0646\\u0627 \\u0646\\u06c1\\u06cc\\u06ba \\u060c \\u062c\\u06cc\\u0633\\u06d2 3 \\u0627\\u0633\\u06a9\\u0648\\u0644 \\u06a9\\u06cc \\u0644\\u0691\\u06a9\\u06cc\\u0648\\u06ba \\u06a9\\u06cc \\u0645\\u0648\\u062a \\u06c1\\u0648 \\u062c\\u0627\\u062a\\u06cc \\u06c1\\u06d2\\u06d4 \\u0634\\u0631\\u0648\\u0639 \\u0645\\u06cc\\u06ba \\u062e\\u0627\\u0646\\u062f\\u0627\\u0646 \\u06a9\\u0627 \\u06a9\\u06c1\\u0627\\u0646\\u06cc \\u0633\\u06d2 \\u06a9\\u0648\\u0626\\u06cc \\u062a\\u0639\\u0644\\u0642 \\u0646\\u06c1\\u06cc\\u06ba \\u06c1\\u0648\\u062a\\u0627 \\u06c1\\u06d2 \\u060c \\u0645\\u06cc\\u06ba \\u06cc\\u0642\\u06cc\\u0646 \\u06a9\\u0631\\u062a\\u0627 \\u06c1\\u0648\\u06ba \\u06a9\\u06c1 \\u0648\\u06c1 \\u0627\\u06cc\\u06a9 \\u0628\\u06d2 \\u062a\\u0631\\u062a\\u06cc\\u0628 \\u062e\\u0627\\u0646\\u062f\\u0627\\u0646 \\u06c1\\u06d2 \\u062c\\u0648 \\u06af\\u06be\\u0631 \\u0645\\u06cc\\u06ba \\u06a9\\u0628\\u06be\\u06cc \\u0646\\u06c1\\u06cc\\u06ba \\u06af\\u06cc\\u0627 \\u062a\\u06be\\u0627 \\u060c \\u0627\\u0648\\u0631 \\u06a9\\u0628\\u06be\\u06cc \\u0628\\u06be\\u06cc \\u06af\\u0631\\u062c \\u06a9\\u06d2 \\u0642\\u062a\\u0644 \\u0633\\u06d2 \\u06a9\\u0648\\u0626\\u06cc \\u0644\\u06cc\\u0646\\u0627 \\u062f\\u06cc\\u0646\\u0627 \\u0646\\u06c1\\u06cc\\u06ba \\u062a\\u06be\\u0627\\u06d4 \\u0645\\u062c\\u06be\\u06d2 \\u06a9\\u0633\\u06cc \\u062d\\u062f \\u062a\\u06a9 \\u0645\\u062a\\u0627\\u062b\\u0631 \\u0646\\u06c1 \\u06a9\\u0631\\u06cc\\u06ba \\u060c \\u0645\\u06cc\\u06ba \\u062e\\u0648\\u0641\\u0632\\u062f\\u06c1 \\u0646\\u06c1\\u06cc\\u06ba \\u06c1\\u0648\\u0627 \\u060c \\u0645\\u06cc\\u06ba \\u0646\\u06d2 \\u06a9\\u0633\\u06cc \\u062d\\u0635\\u06d2 \\u067e\\u0631 \\u06a9\\u0648\\u062f \\u0646\\u06c1\\u06cc\\u06ba \\u06a9\\u06cc\\u0627 \\u060c \\u0627\\u0648\\u0631 \\u067e\\u0648\\u0631\\u06cc \\u0641\\u0644\\u0645 \\u0632\\u06cc\\u0627\\u062f\\u06c1 \\u0633\\u06d2 \\u0632\\u06cc\\u0627\\u062f\\u06c1 \\u0631\\u0642\\u0645 \\u06a9\\u0645\\u0627\\u0646\\u06d2 \\u06a9\\u06d2 \\u0644\\u0626\\u06d2 \\u06af\\u06be\\u0679\\u06cc\\u0627 \\u067e\\u0646 \\u06a9\\u0627 \\u0627\\u06cc\\u06a9 \\u0628\\u06d2 \\u062a\\u0631\\u062a\\u06cc\\u0628 \\u0679\\u06a9\\u0691\\u0627 \\u062a\\u06be\\u0627\\u06d4 \\u06a9\\u06d2 \\u06af\\u0631\\u062c 1 \\u06a9\\u0648 \\u0628\\u06be\\u06cc \\u06af\\u06be\\u0679\\u06cc\\u0627 \\u067e\\u0646 \\u06a9\\u06cc \\u0637\\u0631\\u062d \\u062f\\u06a9\\u06be\\u0627\\u062a\\u0627 \\u06c1\\u06d2 \\u060c \\u062c\\u0648 \\u062f\\u0631\\u0627\\u0635\\u0644 \\u0627\\u06cc\\u06a9 \\u0633\\u06cc\\u062f\\u06be\\u06cc \\u0645\\u0648\\u0648\\u06cc \\u062a\\u06be\\u06cc\\u06d4 \\u0645\\u062c\\u06be\\u06d2 \\u06cc\\u0642\\u06cc\\u0646 \\u06c1\\u06d2 \\u06a9\\u06c1 \\u06af\\u0631\\u062c 2 \\u06af\\u0631\\u062c 3 \\u06a9\\u06cc \\u0645\\u0639\\u0631\\u0648\\u0641 \\u0641\\u0644\\u0645 \\u06a9\\u06cc \\u0637\\u0631\\u062d \\u06c1\\u06d2 \\u060c \\u0627\\u06af\\u0631 \\u0648\\u06c1 \\u06a9\\u0628\\u06be\\u06cc \\u0628\\u06be\\u06cc \\u0628\\u0646\\u0627\\u062a\\u06cc \\u06c1\\u06cc\\u06ba\\u06d4 \\u0627\\u0646\\u06c1\\u0648\\u06ba \\u0646\\u06d2 \\u0627\\u0633\\u06d2 \\u06af\\u0631\\u062c 2 \\u0628\\u06be\\u06cc \\u0646\\u06c1\\u06cc\\u06ba \\u06a9\\u06c1\\u0627 \\u0686\\u0627\\u06c1\\u0626\\u06d2 \\u062a\\u06be\\u0627 \\u060c \\u0627\\u0646\\u06c1\\u06cc\\u06ba \\u0627\\u0633\\u06d2 \\u06af\\u0631\\u0648\\u0688 2 \\u06a9\\u0627 \\u0637\\u0645\\u0627\\u0646\\u0686\\u06c1 \\u06a9\\u06c1\\u0646\\u0627 \\u0686\\u0627\\u06c1\\u0626\\u06d2 \\u060c \\u0627\\u0648\\u0631 \\u0622\\u067e \\u062f\\u06cc\\u06a9\\u06be\\u06cc\\u06ba \\u06af\\u06d2 \\u06a9\\u06c1 \\u06a9\\u06cc\\u0627 \\u0622\\u067e \\u0646\\u06d2 \\u0627\\u0633\\u06d2 \\u062f\\u06cc\\u06a9\\u06be\\u0627 \\u06c1\\u06d2 \\u060c \\u06a9\\u06cc\\u0648\\u06ba \\u06a9\\u06c1 \\u0645\\u06cc\\u06ba \\u06a9\\u0686\\u06be \\u0628\\u06af\\u0627\\u0691\\u0646\\u06d2 \\u0648\\u0627\\u0644\\u0627 \\u0646\\u06c1\\u06cc\\u06ba \\u06c1\\u0648\\u06ba\\u06d4 \\u0627\\u06cc\\u0633\\u0627 \\u0646\\u06c1\\u06cc\\u06ba \\u06c1\\u06d2 \\u06a9\\u06c1 \\u0627\\u0633 \\u0633\\u06d2 \\u06a9\\u0648\\u0626\\u06cc \\u0641\\u0631\\u0642 \\u0646\\u06c1\\u06cc\\u06ba \\u067e\\u0691\\u062a\\u0627 \\u06c1\\u06d2 \\u06d41 / 10 \\u060c \\u0688\\u0631\\u0627\\u0624\\u0646\\u06cc \\u060c \\u0628\\u0631\\u06cc \\u06a9\\u06c1\\u0627\\u0646\\u06cc \\u0646\\u06c1\\u06cc\\u06ba \\u060c \\u0627\\u0648\\u0631 \\u0628\\u0627\\u0644\\u06a9\\u0644 \\u0628\\u06d2 \\u062a\\u0631\\u062a\\u06cc\\u0628 \\u06c1\\u06d2\\u06d4\",\n          \"\\u06cc\\u06c1 \\u0639\\u062c\\u06cc\\u0628 \\u0628\\u0627\\u062a \\u06c1\\u06d2 \\u06a9\\u06c1 \\u06a9\\u0686\\u06be \\u0644\\u0648\\u06af\\u0648\\u06ba \\u06a9\\u0627 \\u06a9\\u06cc\\u0627 \\u062d\\u0634\\u0631 \\u06c1\\u0648\\u062a\\u0627 \\u06c1\\u06d2\\u06d4 \\u0688\\u06cc \\u0648\\u06cc \\u0688\\u06cc \\u062e\\u0648\\u0631\\u062f\\u06c1 \\u0641\\u0631\\u0648\\u0634 \\u0645\\u06cc\\u06ba \\u0688\\u0633\\u06a9\\u0627\\u0624\\u0646\\u0679 \\u0628\\u0646 \\u06a9\\u06cc \\u062a\\u0644\\u0627\\u0634 \\u06a9\\u0631\\u062a\\u06d2 \\u0648\\u0642\\u062a \\u060c \\u0645\\u06cc\\u06ba \\u0645\\u06c1\\u0644\\u06a9 \\u062c\\u0628\\u0644\\u062a \\u06a9\\u06cc \\u0627\\u06cc\\u06a9 \\u06a9\\u0627\\u067e\\u06cc \\u0644\\u06d2 \\u06a9\\u0631 \\u0622\\u06cc\\u0627\\u06d4 \\u06a9\\u0633\\u06cc \\u0628\\u06be\\u06cc \\u0641\\u0644\\u0645 \\u06a9\\u0627 \\u06a9\\u0644\\u06cc\\u06a9\\u0679\\u0631 \\u06c1\\u0648\\u0646\\u06d2 \\u06a9\\u06d2 \\u0646\\u0627\\u0637\\u06d2 \\u062c\\u0648 \\u06a9\\u06c1 \\u0633\\u0627\\u0626\\u0646\\u0633 \\u0641\\u0627\\u0626\\u06cc \\u060c \\u06c1\\u0627\\u0631\\u0631 \\u06cc\\u0627 \\u063a\\u06cc\\u0631 \\u0645\\u0644\\u06a9\\u06cc \\u0631\\u0627\\u06a9\\u0634\\u0633\\u0648\\u06ba \\u06a9\\u06cc \\u062e\\u0627\\u0635\\u06cc\\u062a \\u0631\\u06a9\\u06be\\u062a\\u0627 \\u06c1\\u06d2 \\u060c \\u0645\\u06cc\\u06ba \\u0646\\u06d2 \\u0627\\u0633\\u06d2 \\u062e\\u0631\\u06cc\\u062f\\u0646\\u06d2 \\u06a9\\u0627 \\u0641\\u06cc\\u0635\\u0644\\u06c1 \\u06a9\\u06cc\\u0627 (\\u0627\\u0633 \\u062d\\u0642\\u06cc\\u0642\\u062a \\u06a9\\u0627 \\u0630\\u06a9\\u0631 \\u0646\\u06c1\\u06cc\\u06ba \\u06a9\\u0631\\u0646\\u0627 \\u06a9\\u06c1 \\u0627\\u0633 \\u067e\\u0631 \\u067e\\u0627\\u0646\\u0686 \\u0688\\u0627\\u0644\\u0631 \\u0644\\u0627\\u06af\\u062a \\u0622\\u0626\\u06d2 \\u06af\\u06cc - \\u0627\\u06cc\\u06a9 \\u0633\\u0648\\u062f\\u0627 \\u06c1\\u06d2 \\u060c \\u0645\\u062c\\u06be \\u067e\\u0631 \\u06cc\\u0642\\u06cc\\u0646 \\u06a9\\u0631\\u06cc\\u06ba)\\u06d4 \\u0627\\u0633\\u06d2 \\u062f\\u06cc\\u06a9\\u06be\\u0646\\u06d2 \\u06a9\\u06d2 \\u0628\\u0639\\u062f \\u060c \\u0645\\u06cc\\u06ba \\u0646\\u06d2 \\u0627\\u0633 \\u0631\\u0627\\u0626\\u06d2 \\u06a9\\u0648 \\u062f\\u06cc\\u06a9\\u06be\\u0627 \\u06a9\\u06c1 \\u06cc\\u06c1 \\u06a9\\u0648\\u0626\\u06cc \\u062e\\u0627\\u0635 \\u0628\\u0627\\u062a \\u0646\\u06c1\\u06cc\\u06ba \\u06c1\\u06d2\\u06d4 \\u0644\\u06cc\\u06a9\\u0646 \\u0627\\u0646\\u0679\\u0631\\u0646\\u06cc\\u0679 \\u067e\\u0631 \\u06a9\\u0686\\u06be \\u062a\\u062d\\u0642\\u06cc\\u0642 \\u06a9\\u0631\\u0646\\u06d2 \\u06a9\\u06d2 \\u0628\\u0639\\u062f \\u060c \\u0645\\u06cc\\u06ba \\u0646\\u06d2 \\u062f\\u0631\\u06cc\\u0627\\u0641\\u062a \\u06a9\\u06cc\\u0627 \\u06a9\\u06c1 \\u06cc\\u06c1 \\u0641\\u0644\\u0645 \\u062f\\u0631\\u0627\\u0635\\u0644 \\u0628\\u0631\\u06cc\\u0688\\u0631\\u0632 \\u06a9\\u06c1\\u0644\\u0627\\u062a\\u06cc \\u062a\\u06be\\u06cc \\u0627\\u0648\\u0631 \\u0648\\u06c1 \\u0679\\u0645 \\u06a9\\u0646\\u06a9\\u06cc\\u0688 \\u06c1\\u0627\\u0631\\u0631 \\u0641\\u0644\\u06a9 \\u06a9\\u0627 \\u0631\\u06cc\\u0645\\u06cc\\u06a9 \\u062a\\u06be\\u0627 \\u062c\\u0633 \\u0646\\u06d2 1980 \\u06a9\\u06cc \\u062f\\u06c1\\u0627\\u0626\\u06cc \\u06a9\\u06d2 \\u0648\\u0633\\u0637 \\u0645\\u06cc\\u06ba \\u0648\\u06cc\\u0688\\u06cc\\u0648 \\u0627\\u0633\\u0679\\u0648\\u0631\\u0648\\u06ba \\u06a9\\u0648 \\u062a\\u06cc\\u0632 \\u06a9\\u06cc\\u0627\\u06d4 \\u062c\\u0648 \\u0645\\u06cc\\u06ba \\u067e\\u06c1\\u0644\\u06d2 \\u06c1\\u06cc \\u062f\\u06cc\\u06a9\\u06be \\u0686\\u06a9\\u0627 \\u06c1\\u0648\\u06ba\\u06d4 \\u0627\\u0633 \\u062f\\u0631\\u06cc\\u0627\\u0641\\u062a \\u06a9\\u06d2 \\u0628\\u0639\\u062f \\\"\\u0645\\u06c1\\u0644\\u06a9 \\u062c\\u0628\\u0644\\u062a\\\" \\u06a9\\u06cc \\u0645\\u06cc\\u0631\\u06cc \\u062a\\u0639\\u0631\\u06cc\\u0641 \\u0645\\u06cc\\u06ba \\u0627\\u0636\\u0627\\u0641\\u06c1 \\u06c1\\u0648\\u0627\\u06d4 \\u0627\\u06cc\\u06a9 \\u067e\\u0631\\u0627\\u0626\\u06cc\\u0648\\u0679 \\u06af\\u0631\\u0644\\u0632 \\u06a9\\u0627\\u0644\\u062c \\u06a9\\u06d2 \\u0633\\u0627\\u062a\\u06be \\u0648\\u0627\\u0644\\u06d2 \\u0644\\u0627\\u0646 \\u0645\\u06cc\\u06ba \\u0627\\u06cc\\u06a9 \\u0627\\u0644\\u06a9\\u0627 \\u062f\\u06c1\\u0644 \\u06af\\u0631 \\u06a9\\u0631 \\u062a\\u0628\\u0627\\u06c1 \\u06c1\\u0648\\u06af\\u0626\\u06cc\\u06d4 \\u0648\\u06c1\\u0627\\u06ba \\u06a9\\u06d2 \\u0648\\u0627\\u062d\\u062f \\u0627\\u0633\\u062a\\u0627\\u062f \\u0627\\u06cc\\u0634\\u0644\\u06d2 (\\u0679\\u0648\\u0688 \\u062c\\u06cc\\u0646\\u0633\\u0646 \\u0646\\u06d2 \\u0627\\u062f\\u0627 \\u06a9\\u06cc\\u0627\\u06d4 \\u06cc\\u06c1 \\u0679\\u06be\\u06cc\\u06a9 \\u06c1\\u06d2 \\u060c \\u0648\\u06c1 \\u0644\\u0691\\u06a9\\u0627 \\u062c\\u0648 \\u0686\\u0627\\u0631 \\u0633\\u0627\\u0644 \\u0642\\u0628\\u0644 \\u06a9\\u0644\\u0679 \\u0641\\u0644\\u06a9 \\u0633\\u0627\\u0626\\u0628\\u0631\\u06af COP \\u0645\\u06cc\\u06ba \\u0633\\u0627\\u0626\\u0628\\u0631\\u06af \\u0645\\u06cc\\u06ba \\u062a\\u0628\\u062f\\u06cc\\u0644 \\u06c1\\u0648 \\u062c\\u0627\\u062a\\u0627 \\u06c1\\u06d2) \\u060c \\u0646\\u0648\\u0679\\u0633 \\u06a9\\u06cc\\u0627 \\u06a9\\u06c1 \\u06a9\\u0686\\u06be \\u0637\\u0644\\u0628\\u0627\\u0621 \\u063a\\u0627\\u0626\\u0628 \\u06c1\\u0648\\u0646\\u06d2 \\u0644\\u06af\\u06d2 \\u06c1\\u06cc\\u06ba \\u060c \\u062c\\u0628\\u06a9\\u06c1 \\u0627\\u06cc\\u06a9 \\u0633\\u06cc\\u0627\\u06c1 \\u0641\\u0627\\u0645 \\u0648\\u0627\\u0642\\u0639\\u06d2 \\u06a9\\u0627 \\u0633\\u0627\\u0645\\u0646\\u0627 \\u06a9\\u0631\\u0646\\u0627 \\u067e\\u0691\\u0627\\u06d4 \\u0627\\u06cc\\u06a9 \\u062f\\u0627\\u063a\\u062f\\u0627\\u0631 \\u0686\\u06c1\\u0631\\u06d2 \\u0648\\u0627\\u0644\\u06cc \\u0628\\u0627\\u0644\\u0648\\u06ba \\u0648\\u0627\\u0644\\u06cc \\u0639\\u0648\\u0631\\u062a \\u0627\\u0648\\u0631 \\u0686\\u0645\\u0691\\u06d2 \\u06a9\\u0627 \\u0644\\u0628\\u0627\\u0633 \\u067e\\u06c1\\u0646\\u06d2 \\u06c1\\u0648\\u0626\\u06d2\\u06d4 \\u0627\\u0633 \\u06a9\\u06cc \\u062a\\u0641\\u062a\\u06cc\\u0634 \\u0633\\u06d2 \\u067e\\u062a\\u06c1 \\u0686\\u0644\\u062a\\u0627 \\u06c1\\u06d2 \\u06a9\\u06c1 \\u0627\\u06cc\\u06a9 \\u0627\\u062c\\u0646\\u0628\\u06cc \\u0645\\u062e\\u0644\\u0648\\u0642 \\u0627\\u0644\\u06a9\\u0627 \\u067e\\u0631 \\u0633\\u0648\\u0627\\u0631\\u06cc \\u06a9\\u06cc \\u0627\\u0648\\u0631 \\u0645\\u0642\\u0627\\u0645\\u06cc \\u062e\\u0648\\u0627\\u062a\\u06cc\\u0646 \\u06a9\\u06cc \\u0646\\u0633\\u0644 \\u06a9\\u0648 \\u0627\\u0633\\u062a\\u0639\\u0645\\u0627\\u0644 \\u06a9\\u0631\\u062a\\u06d2 \\u06c1\\u0648\\u0626\\u06d2 \\u0627\\u0633 \\u06a9\\u06cc \\u0646\\u0633\\u0644 \\u067e\\u06cc\\u062f\\u0627 \\u06a9\\u0631\\u0646\\u06d2 \\u06a9\\u06d2 \\u0644\\u0626\\u06d2 \\u0632\\u0645\\u06cc\\u0646 \\u067e\\u0631 \\u0622\\u0626\\u06cc \\u062a\\u06be\\u06cc\\u06d4 \\u0627\\u06cc\\u06a9 \\u0645\\u0642\\u0627\\u0645\\u06cc \\u062c\\u0627\\u0633\\u0648\\u0633 \\u06a9\\u06d2 \\u0633\\u0627\\u062a\\u06be \\u062c\\u0648 \\u0627\\u0646\\u06be\\u06cc\\u06ba \\u06af\\u0645\\u0634\\u062f\\u06af\\u06cc\\u0648\\u06ba \\u06a9\\u0627 \\u0630\\u0645\\u06c1 \\u062f\\u0627\\u0631 \\u0645\\u0627\\u0646\\u062a\\u0627 \\u06c1\\u06d2 \\u060c \\u0627\\u06cc\\u0634\\u0644\\u06d2 \\u0627\\u0633 \\u0639\\u0641\\u0631\\u06cc\\u062a \\u06a9\\u0648 \\u0631\\u0648\\u06a9\\u0646\\u06d2 \\u06a9\\u06cc \\u06a9\\u0648\\u0634\\u0634 \\u06a9\\u0631\\u062a\\u0627 \\u06c1\\u06d2\\u06d4 \\u0679\\u0645 \\u06a9\\u0646\\u06a9\\u06cc\\u0688 (\\u062c\\u0648 \\u06c1\\u0645 \\u062c\\u0646\\u0633 \\u067e\\u0631\\u0633\\u062a\\u0648\\u06ba \\u06a9\\u0648 \\u0641\\u062d\\u0634 \\u0628\\u0646\\u0627\\u0646\\u06d2 \\u06a9\\u06d2 \\u0644\\u0626\\u06d2 \\u0627\\u0633 \\u0635\\u0646\\u0641 \\u06a9\\u0648 \\u0686\\u06be\\u0648\\u0691 \\u062f\\u06d2 \\u06af\\u0627) \\u06a9\\u06cc \\u06c1\\u062f\\u0627\\u06cc\\u062a\\u06a9\\u0627\\u0631\\u06cc \\u0645\\u06cc\\u06ba \\u062a\\u06cc\\u0627\\u0631 \\u06a9\\u0631\\u062f\\u06c1 \\u0627\\u0635\\u0644 \\u0628\\u0631\\u06cc\\u0688\\u0631\\u0632 \\u060c \\u0627\\u06cc\\u06a9 \\u0633\\u0627\\u0626\\u0646\\u0633 \\u0641\\u0627\\u0626\\u06cc / \\u06c1\\u0627\\u0631\\u0631 \\u0641\\u0644\\u0645 \\u062a\\u06be\\u06cc \\u062c\\u0648 \\u062f\\u0631\\u0627\\u0635\\u0644 \\u0627\\u06cc\\u06a9 \\u067e\\u062a\\u0644\\u06cc \\u0633\\u06d2 \\u067e\\u0631\\u062f\\u06c1 \\u062f\\u0627\\u0631 \\u0646\\u0631\\u0645 \\u06a9\\u0648\\u0631 \\u0641\\u062d\\u0634 \\u0641\\u0644\\u0645 \\u062a\\u06be\\u06cc \\u062c\\u0633 \\u06a9\\u0648 \\u0634\\u0627\\u0626\\u0642\\u06cc\\u0646 \\u06a9\\u06d2 \\u0634\\u0627\\u0626\\u0642\\u06cc\\u0646 \\u062a\\u06a9 \\u062c\\u0644\\u062f \\u067e\\u0631 \\u062c\\u0627\\u0646\\u06d2 \\u06a9\\u06d2 \\u0644. \\u062a\\u06cc\\u0627\\u0631 \\u06a9\\u06cc\\u0627 \\u06af\\u06cc\\u0627 \\u062a\\u06be\\u0627\\u06d4 \\u06cc\\u06c1 \\u0645\\u06cc\\u0631\\u06d2 \\u062e\\u06cc\\u0627\\u0644 \\u0645\\u06cc\\u06ba \\u060c 1980 \\u06a9\\u06cc \\u062f\\u06c1\\u0627\\u0626\\u06cc \\u0645\\u06cc\\u06ba \\u0628\\u0646\\u06cc \\u0628\\u062f\\u062a\\u0631\\u06cc\\u0646 \\u0641\\u0644\\u0645\\u0648\\u06ba \\u0645\\u06cc\\u06ba \\u0633\\u06d2 \\u0627\\u06cc\\u06a9 \\u06c1\\u06d2\\u06d4 \\u06a9\\u06cc\\u0648\\u06ba \\u06a9\\u0648\\u0626\\u06cc \\u0628\\u06be\\u06cc \\u0627\\u0633 \\u06a9\\u0627 \\u0631\\u06cc\\u0645\\u06cc\\u06a9 \\u06a9\\u0631\\u0646\\u0627 \\u0686\\u0627\\u06c1\\u062a\\u0627 \\u06c1\\u06d2 \\u06cc\\u06c1 \\u0627\\u06cc\\u06a9 \\u0628\\u06c1\\u062a \\u06c1\\u06cc \\u0645\\u0639\\u0645\\u06c1 \\u06c1\\u06d2\\u06d4 \\u06cc\\u06c1 \\u0631\\u06cc\\u0645\\u06cc\\u06a9 \\u062d\\u0642\\u06cc\\u0642\\u062a \\u0645\\u06cc\\u06ba \\u0627\\u0633 \\u06a9\\u06d2 \\u06a9\\u0645 \\u0628\\u062c\\u0679 \\u06a9\\u06d2 \\u0630\\u0631\\u06cc\\u0639\\u06c1 \\u0633\\u06d2 \\u0628\\u06c1\\u062a\\u0631 \\u06a9\\u0648\\u0634\\u0634 \\u06c1\\u06d2\\u06d4 \\u0641\\u0644\\u0645 \\u060c \\u062c\\u0648 \\u0627\\u0646\\u0633\\u0627\\u0646\\u06cc \\u062e\\u0648\\u0627\\u062a\\u06cc\\u0646 \\u06a9\\u06d2 \\u0633\\u0627\\u062a\\u06be \\u0645\\u062f\\u0627\\u062e\\u0644\\u062a \\u06a9\\u0631\\u0646\\u06d2 \\u06a9\\u06cc \\u06a9\\u0648\\u0634\\u0634 \\u06a9\\u0631\\u0646\\u06d2 \\u0648\\u0627\\u0644\\u06d2 \\u0627\\u062c\\u0646\\u0628\\u06cc \\u0639\\u0641\\u0631\\u06cc\\u062a \\u06a9\\u0627 \\u0628\\u0646\\u06cc\\u0627\\u062f\\u06cc \\u062a\\u0635\\u0648\\u0631 \\u0644\\u06cc\\u062a\\u06cc \\u06c1\\u06d2 \\u060c \\u06a9\\u0633\\u06cc \\u0628\\u06be\\u06cc \\u0641\\u062d\\u0634 \\u0639\\u0646\\u0627\\u0635\\u0631 \\u06a9\\u0648 \\u062e\\u062a\\u0645 \\u06a9\\u0631\\u062a\\u06cc \\u06c1\\u06d2\\u06d4 \\u062f\\u0631\\u0627\\u0635\\u0644 \\u060c \\u0641\\u0644\\u0645 \\u062f\\u0631\\u0627\\u0635\\u0644 \\u0628\\u06c1\\u062a \\u06a9\\u0645 \\u06c1\\u06d2\\u06d4 \\u06cc\\u06c1\\u0627\\u06ba \\u062c\\u0646\\u0633\\u06cc \\u0645\\u0646\\u0627\\u0638\\u0631 \\u0646\\u06c1\\u06cc\\u06ba \\u06c1\\u06cc\\u06ba \\u060c \\u0639\\u0631\\u06cc\\u0627\\u0646\\u06cc \\u0646\\u06c1\\u06cc\\u06ba \\u06c1\\u06d2 (\\u06cc\\u06c1\\u0627\\u06ba \\u062a\\u06a9 \\u06a9\\u06c1 \\u0634\\u0627\\u0648\\u0631 \\u06a9\\u06d2 \\u0645\\u0646\\u0638\\u0631 \\u06a9\\u06d2 \\u062f\\u0648\\u0631\\u0627\\u0646 \\u0628\\u06be\\u06cc) \\u060c \\u062d\\u0644\\u0641 \\u0628\\u0631\\u062f\\u0627\\u0631\\u06cc \\u0627\\u0648\\u0631 \\u062a\\u0634\\u062f\\u062f \\u06a9\\u0648 \\u06a9\\u0645 \\u0633\\u06d2 \\u06a9\\u0645 \\u0633\\u0637\\u062d \\u067e\\u0631 \\u0631\\u06a9\\u06be\\u0627 \\u062c\\u0627\\u062a\\u0627 \\u06c1\\u06d2 \\u0627\\u0648\\u0631 \\u0627\\u0633 \\u0645\\u06cc\\u06ba \\u06a9\\u0648\\u0626\\u06cc \\u06af\\u0648\\u0631 \\u0646\\u06c1\\u06cc\\u06ba \\u06c1\\u06d2 (\\u062c\\u0648 \\u06af\\u0648\\u0631\\u06c1\\u0627\\u0626\\u0648\\u0646\\u0688\\u0632 \\u06a9\\u0648 \\u062f\\u06be\\u0648\\u06a9\\u06c1 \\u062f\\u06d2 \\u0633\\u06a9\\u062a\\u0627 \\u06c1\\u06d2)\\u06d4 \\u0627\\u0633 \\u06a9\\u06d2 \\u0646\\u062a\\u06cc\\u062c\\u06d2 \\u0645\\u06cc\\u06ba \\u06cc\\u06c1 \\u0641\\u0644\\u0645 \\u067e\\u0648\\u0631\\u06d2 \\u062e\\u0627\\u0646\\u062f\\u0627\\u0646 \\u06a9\\u06d2 \\u0644 safe \\u0645\\u062d\\u0641\\u0648\\u0638 \\u0628\\u0646 \\u062c\\u0627\\u062a\\u06cc \\u06c1\\u06d2 \\u060c \\u06cc\\u0639\\u0646\\u06cc \\u0627\\u06af\\u0631 \\u0628\\u0686\\u06d2 \\u0627\\u062c\\u0646\\u0628\\u06cc \\u0631\\u0627\\u06a9\\u0634\\u0633\\u0648\\u06ba \\u0633\\u06d2 \\u062e\\u0648\\u0641\\u0632\\u062f\\u06c1 \\u0646\\u06c1 \\u06c1\\u0648\\u06ba (\\u062c\\u0648 \\u0645\\u062c\\u06be\\u06d2 \\u0641\\u0644\\u0645 \\u06a9\\u06cc \\u0627\\u06cc\\u0645 15+ \\u0631\\u06cc\\u0679\\u0646\\u06af \\u0645\\u06cc\\u06ba \\u0644\\u06d2 \\u0622\\u062a\\u0627 \\u06c1\\u06d2 \\u060c \\u062c\\u0648 \\u062a\\u06be\\u0648\\u0691\\u0627 \\u0633\\u0627 \\u0644\\u06af\\u062a\\u0627 \\u06c1\\u06d2)\\u06d4 \\u0645\\u0648\\u0636\\u0648\\u0639 \\u06a9\\u06cc \\u0645\\u0645\\u0627\\u062b\\u0644\\u062a \\u06a9\\u0648 \\u0627\\u06cc\\u06a9 \\u0637\\u0631\\u0641 \\u0631\\u06a9\\u06be \\u06a9\\u0631 \\u060c \\u0641\\u0644\\u0645 \\u0645\\u06cc\\u06ba \\u06a9\\u0686\\u06be \\u0646\\u0642\\u0627\\u0626\\u0635 \\u06c1\\u0648\\u062a\\u06d2 \\u06c1\\u06cc\\u06ba\\u06d4 \\u0627\\u0633\\u06a9\\u0631\\u067e\\u0679 \\u0645\\u06cc\\u06ba \\u060c \\u06a9\\u0686\\u06be \\u0627\\u0686\\u06be\\u06cc \\u062e\\u0635\\u0648\\u0635\\u06cc\\u0627\\u062a \\u06a9\\u06cc \\u0646\\u0645\\u0627\\u0626\\u0634 \\u06a9\\u0631\\u062a\\u06d2 \\u06c1\\u0648\\u0626\\u06d2 \\u060c \\u0628\\u06c1\\u062a \\u0633\\u0627\\u0631\\u06d2 \\u0633\\u0648\\u0631\\u0627\\u062e \\u06c1\\u06cc\\u06ba \\u062c\\u0633 \\u06a9\\u06d2 \\u0630\\u0631\\u06cc\\u0639\\u06d2 \\u0622\\u067e \\u0627\\u0644\\u06a9\\u0627 \\u062d\\u0627\\u062f\\u062b\\u06c1 \\u06a9\\u0631\\u0627\\u0633 \\u06a9\\u0631\\u0633\\u06a9\\u062a\\u06d2 \\u06c1\\u06cc\\u06ba\\u06d4 \\u06a9\\u06cc\\u0627 \\u06c1\\u06d2\\u061f \\u062a\\u0645 \\u0627\\u0633 \\u06a9\\u06d2 \\u0644\\u0626\\u06d2 \\u0645\\u062c\\u06be \\u067e\\u0631 \\u062f\\u06cc\\u0648\\u0627\\u0646\\u06d2 \\u06c1\\u0648\\u061f \\u0686\\u0644\\u0648 \\u060c \\u0627\\u0633 \\u062c\\u0627\\u0626\\u0632\\u06d2 \\u06a9\\u0648 \\u0628\\u0631\\u06cc \\u0637\\u0631\\u062d \\u06a9\\u06d2 \\u0639\\u0630\\u0627\\u0628 \\u06a9\\u06cc \\u0636\\u0631\\u0648\\u0631\\u062a \\u062a\\u06be\\u06cc \\u0644\\u06c1\\u0630\\u0627 \\u06cc\\u06c1 \\u062f\\u0644\\u0686\\u0633\\u067e \\u0631\\u06c1\\u06d2 \\u06af\\u06cc\\u06d4 \\u0628\\u06c1\\u0631\\u062d\\u0627\\u0644 \\u060c \\u0641\\u0644\\u0645 \\u06a9\\u06cc \\u062a\\u0631\\u062a\\u06cc\\u0628 \\u0627\\u06cc\\u06a9 \\u0645\\u0633\\u0626\\u0644\\u06c1 \\u06c1\\u06d2 \\u062c\\u0633 \\u06a9\\u0627 \\u0627\\u0633\\u06a9\\u0631\\u067e\\u0679 \\u0679\\u06be\\u06cc\\u06a9 \\u0646\\u06c1\\u06cc\\u06ba \\u06a9\\u0631\\u0633\\u06a9\\u0627 - \\u0641\\u0644\\u0645 \\u0628\\u0648\\u0633\\u0679\\u0646 \\u0645\\u06cc\\u06ba \\u0633\\u06cc\\u0679 \\u06a9\\u06cc \\u06af\\u0626\\u06cc \\u06c1\\u06d2 \\u0644\\u06cc\\u06a9\\u0646 \\u0639\\u0645\\u0627\\u0631\\u062a\\u06cc\\u06ba \\u0627\\u06cc\\u0633\\u06cc \\u0646\\u06c1\\u06cc\\u06ba \\u0644\\u06af\\u062a\\u06cc \\u06c1\\u06cc\\u06ba \\u062c\\u0648 \\u0628\\u0648\\u0633\\u0679\\u0646 \\u0645\\u06cc\\u06ba \\u06c1\\u06cc\\u06ba\\u06d4 \\u0641\\u0646 \\u062a\\u0639\\u0645\\u06cc\\u0631 \\u06a9\\u06d2 \\u0628\\u0627\\u0631\\u06d2 \\u0645\\u06cc\\u06ba \\u06a9\\u0686\\u06be \\u0679\\u06be\\u06cc\\u06a9 \\u0646\\u06c1\\u06cc\\u06ba \\u06c1\\u06d2\\u06d4 \\u0627\\u06cc\\u06a9 \\u0627\\u0648\\u0631 \\u0686\\u06cc\\u0632 \\u062e\\u0648\\u062f \\u06a9\\u0627\\u0644\\u062c \\u06c1\\u06d2 \\u060c \\u062c\\u0633 \\u0645\\u06cc\\u06ba \\u0627\\u06cc\\u06a9 \\u0628\\u0691\\u06cc \\u0639\\u0645\\u0627\\u0631\\u062a \\u06c1\\u06d2 \\u062c\\u0633 \\u0645\\u06cc\\u06ba \\u062a\\u0642\\u0631\\u06cc\\u0628\\u0627 twenty \\u0628\\u06cc\\u0633 \\u0637\\u0644\\u0628\\u0627\\u0621 (\\u062a\\u0645\\u0627\\u0645 \\u062e\\u0648\\u0627\\u062a\\u06cc\\u0646 \\u060c \\u06cc\\u0642\\u06cc\\u0646\\u0627)) \\u0631\\u06c1\\u0627\\u0626\\u0634 \\u067e\\u0632\\u06cc\\u0631 \\u06c1\\u06cc\\u06ba \\u0627\\u0648\\u0631 \\u0635\\u0631\\u0641 \\u0627\\u06cc\\u06a9 \\u06c1\\u06cc \\u06a9\\u0644\\u0627\\u0633 \\u06c1\\u06d2\\u06d4 \\u0648\\u06c1\\u0627\\u06ba \\u067e\\u0631 \\u0635\\u0631\\u0641 \\u0627\\u0633\\u0627\\u062a\\u0630\\u06c1 \\u06a9\\u0627 \\u0627\\u06cc\\u06a9 \\u0637\\u0627\\u0644\\u0628 \\u0639\\u0644\\u0645 (\\u0627\\u0648\\u0631 \\u0627\\u06cc\\u0633\\u06d2 \\u06c1\\u06cc \\u062f\\u0631\\u0628\\u0627\\u0646) \\u0633\\u06d2 \\u0631\\u0634\\u062a\\u06c1 \\u06c1\\u06d2 \\u060c \\u062c\\u0648 \\u06a9\\u0633\\u06cc \\u0637\\u0631\\u062d \\u067e\\u0631\\u0646\\u0633\\u067e\\u0644 \\u06a9\\u06cc \\u062a\\u0648\\u062c\\u06c1 \\u0633\\u06d2 \\u0628\\u0686 \\u062c\\u0627\\u062a\\u0627 \\u06c1\\u06d2\\u06d4 \\u067e\\u0648\\u0644\\u06cc\\u0633\\u0648\\u06ba \\u06a9\\u0627 \\u0630\\u06a9\\u0631 \\u0646\\u06c1 \\u06a9\\u0631\\u0646\\u0627 \\u060c \\u062c\\u0648 \\u0627\\u062a\\u0646\\u06d2 \\u062c\\u06c1\\u062a\\u06cc (\\u0627\\u0648\\u0631 \\u0628\\u06cc\\u0648\\u0642\\u0648\\u0641) \\u06c1\\u06cc\\u06ba \\u06a9\\u06c1 \\u0627\\u06af\\u0631 \\u0628\\u0648\\u0633\\u0679\\u0646 \\u06a9\\u06d2 \\u062d\\u0642\\u06cc\\u0642\\u06cc PD \\u0645\\u06cc\\u06ba \\u0645\\u0642\\u062f\\u0645\\u06c1 \\u0686\\u0644\\u0627\\u0646\\u06d2 \\u06a9\\u0627 \\u0641\\u06cc\\u0635\\u0644\\u06c1 \\u06a9\\u06cc\\u0627 \\u06af\\u06cc\\u0627 \\u062a\\u0648 \\u0627\\u0633 \\u06a9\\u0627 \\u0645\\u0639\\u0627\\u0645\\u0644\\u06c1 \\u0627\\u0686\\u06be\\u0627 \\u06c1\\u0648\\u06af\\u0627\\u06d4 \\u0627\\u0648\\u06c1 \\u060c \\u0627\\u0648\\u0631 \\u0627\\u0644\\u06a9\\u0627 ... \\u0627\\u0686\\u06be\\u06cc \\u0637\\u0631\\u062d \\u0633\\u06d2 \\u06cc\\u06c1 \\u0627\\u0645\\u06a9\\u0627\\u0646 \\u0628\\u06be\\u06cc \\u0645\\u0648\\u062c\\u0648\\u062f \\u06c1\\u06d2 \\u06a9\\u06c1 \\u0627\\u06cc\\u06a9 \\u0627\\u0644\\u06a9\\u0627 \\u062c\\u0648 \\u0632\\u062d\\u0644 \\u0633\\u06d2 \\u0628\\u06be\\u06cc\\u062c\\u0627 \\u06af\\u06cc\\u0627 \\u06c1\\u06d2 (\\u0627\\u0641\\u062a\\u062a\\u0627\\u062d\\u06cc \\u06a9\\u0631\\u06cc\\u0688\\u0679 \\u06a9\\u0648 \\u0686\\u06cc\\u06a9 \\u06a9\\u0631\\u06cc\\u06ba) \\u062c\\u06c1\\u0627\\u0632 \\u067e\\u0631 \\u0686\\u0644\\u0646\\u06d2 \\u06a9\\u06d2 \\u0628\\u063a\\u06cc\\u0631 \\u0632\\u0645\\u06cc\\u0646 \\u067e\\u0631 \\u067e\\u06c1\\u0646\\u0686 \\u062c\\u0627\\u062a\\u0627 \\u06c1\\u06d2 \\u0648\\u06c1 \\u0641\\u0644\\u06a9\\u06cc\\u0627\\u062a\\u06cc \\u06c1\\u06d2\\u06d4 \\u0627\\u0633 \\u0645\\u06cc\\u06ba \\u0627\\u0645\\u06a9\\u0627\\u0646\\u0627\\u062a \\u0634\\u0627\\u0645\\u0644 \\u0646\\u06c1\\u06cc\\u06ba \\u06c1\\u06cc\\u06ba \\u06a9\\u06c1 \\u0627\\u0644\\u06a9\\u0627 \\u0645\\u06cc\\u06ba \\u0645\\u0648\\u062c\\u0648\\u062f \\u06a9\\u0648\\u0626\\u06cc \\u0645\\u0633\\u0627\\u0641\\u0631 \\u0644\\u06cc\\u0646\\u0688\\u0646\\u06af \\u0633\\u06d2 \\u0628\\u0686 \\u0633\\u06a9\\u06d2 \\u06af\\u0627\\u06d4 \\u062c\\u06c1\\u0627\\u06ba \\u062a\\u06a9 \\u0627\\u062f\\u0627\\u06a9\\u0627\\u0631\\u06cc \\u06c1\\u0648\\u062a\\u06cc \\u06c1\\u06d2 \\u062a\\u0648 \\u060c \\u0679\\u0688 \\u062c\\u06cc\\u0646\\u0633\\u0646 \\u0628\\u06c1\\u0627\\u062f\\u0631 \\u0627\\u0633\\u0627\\u062a\\u0630\\u06c1 \\u06a9\\u06cc \\u062d\\u06cc\\u062b\\u06cc\\u062a \\u0633\\u06d2 \\u0627\\u06cc\\u06a9 \\u0642\\u0627\\u0628\\u0644 \\u0628\\u06be\\u0631\\u0648\\u0633\\u06c1 \\u06a9\\u0627\\u0631\\u06a9\\u0631\\u062f\\u06af\\u06cc \\u067e\\u06cc\\u0634 \\u06a9\\u0631\\u062a\\u0627 \\u06c1\\u06d2 \\u062c\\u0628\\u06a9\\u06c1 \\u0645\\u0631\\u062d\\u0648\\u0645 \\u06a9\\u062f\\u0902\\u092c\\u093e \\u0633\\u06cc\\u0645\\u0633\\u0646 (\\u062c\\u0633\\u06d2 \\u0627\\u0633 \\u06a9\\u06d2 \\u067e\\u0631\\u06cc\\u0645\\u06cc \\u0646\\u06d2 \\u062a\\u06be\\u0648\\u0691\\u06cc \\u062f\\u06cc\\u0631 \\u067e\\u06c1\\u0644\\u06d2 \\u06c1\\u06cc \\u0642\\u062a\\u0644 \\u06a9\\u0631\\u062f\\u06cc\\u0627 \\u062a\\u06be\\u0627\\u06d4 \\u0641\\u0644\\u0645 \\u0645\\u0646\\u0638\\u0631\\u0639\\u0627\\u0645 \\u067e\\u0631 \\u0622\\u0626\\u06cc \\u06c1\\u06d2) \\u0686\\u0645\\u0691\\u06d2 \\u06a9\\u06d2 \\u0644\\u0628\\u0627\\u0633 \\u0645\\u06cc\\u06ba \\u0646\\u0645\\u0627\\u06cc\\u0627\\u06ba \\u0634\\u062e\\u0635\\u06cc\\u062a \\u06a9\\u0648 \\u06a9\\u0645 \\u06a9\\u0631\\u062a\\u06cc \\u06c1\\u06d2 \\u060c \\u0633\\u0627\\u062a\\u06be \\u06c1\\u06cc \\u06cc\\u06c1 \\u0628\\u06be\\u06cc \\u062b\\u0627\\u0628\\u062a \\u06a9\\u0631\\u062a\\u06cc \\u06c1\\u06d2 \\u06a9\\u06c1 \\u0648\\u06c1 \\u0627\\u062f\\u0627\\u06a9\\u0627\\u0631\\u06cc \\u06a9\\u0631\\u0633\\u06a9\\u062a\\u06cc \\u06c1\\u06d2\\u06d4 \\u0628\\u0635\\u0631\\u06cc \\u062a\\u0627\\u062b\\u0631\\u0627\\u062a \\u0686\\u0644 \\u0631\\u06c1\\u06d2 \\u06c1\\u06cc\\u06ba \\u060c \\u0641\\u0644\\u0645 \\u06a9\\u06d2 \\u0628\\u0646\\u0627\\u0646\\u06d2 \\u0648\\u0627\\u0644\\u0648\\u06ba \\u06a9\\u0648 \\u06c1\\u0645\\u0627\\u0631\\u06d2 \\u0644\\u0626\\u06d2 \\u0627\\u06cc\\u06a9 \\u0627\\u0686\\u06be\\u06d2 \\u0646\\u0638\\u0631 \\u0622\\u0646\\u06d2 \\u0648\\u0627\\u0644\\u06d2 \\u0639\\u0641\\u0631\\u06cc\\u062a \\u06a9\\u0648 \\u0644\\u0627\\u0646\\u06d2 \\u06a9\\u06d2 \\u0644\\u0626\\u06d2 \\u06a9\\u0631\\u06cc\\u0688\\u0679 \\u06a9\\u06d2 \\u0633\\u0627\\u062a\\u06be\\u06d4\"\n        ],\n        \"semantic_type\": \"\",\n        \"description\": \"\"\n      }\n    }\n  ]\n}"
            }
          },
          "metadata": {},
          "execution_count": 48
        }
      ]
    },
    {
      "cell_type": "code",
      "source": [
        "from urduhack.models.lemmatizer import lemmatizer\n",
        "def lemitizeStr(str):\n",
        "  lemme_str = \"\"\n",
        "  temp = lemmatizer.lemma_lookup(str)\n",
        "  for t in temp:\n",
        "    lemme_str += t[0] + \" \"\n",
        "  return lemme_str"
      ],
      "metadata": {
        "id": "SJKc6poJ2QBy"
      },
      "execution_count": 49,
      "outputs": []
    },
    {
      "cell_type": "code",
      "source": [
        "df_urdu['lemmatized_text'] = df_urdu['review'].apply(lemitizeStr)"
      ],
      "metadata": {
        "id": "jJuj8Nhe_IOm"
      },
      "execution_count": 50,
      "outputs": []
    },
    {
      "cell_type": "code",
      "source": [
        "df_urdu[\"review\"] = df[\"review\"].apply(remove_stopwords)"
      ],
      "metadata": {
        "id": "tLq-e4_O_b-V"
      },
      "execution_count": 51,
      "outputs": []
    },
    {
      "cell_type": "code",
      "source": [
        "df_urdu['review'][1], df_urdu['lemmatized_text'][1]"
      ],
      "metadata": {
        "id": "cnb1kpOU_67L"
      },
      "execution_count": null,
      "outputs": []
    },
    {
      "cell_type": "code",
      "source": [
        "df_urdu.head(3)"
      ],
      "metadata": {
        "colab": {
          "base_uri": "https://localhost:8080/",
          "height": 143
        },
        "id": "gr4ANi-qAUZK",
        "outputId": "34d4face-9796-4242-efd5-63661957b047"
      },
      "execution_count": 60,
      "outputs": [
        {
          "output_type": "execute_result",
          "data": {
            "text/plain": [
              "                                              review sentiment  \\\n",
              "0  گھر خواتین بارے دستاویزی فلم ہے۔ لحاظ دلچسپ با...  negative   \n",
              "1  بالکل اچھ ،ی کام ، پوری فلم گرڈج کہیں ترتیب لو...  negative   \n",
              "2  عجیب بات لوگوں حشر ہے۔ ڈی وی ڈی خوردہ فروش ڈسک...  negative   \n",
              "\n",
              "                                     lemmatized_text  encoded_label  \n",
              "0  یہ بے گھر خواتین کے بارے میں ایک دستاویزی فلم ...              0  \n",
              "1  بالکل بھی اچھ ،ی کام نہیں کیا گیا ، پوری فلم ص...              0  \n",
              "2  یہ عجیب بات ہے کہ کچھ لوگوں کا کیا حشر ہوتا ہے...              0  "
            ],
            "text/html": [
              "\n",
              "  <div id=\"df-a2401aca-6ae9-49da-914a-10f6c0c72a36\" class=\"colab-df-container\">\n",
              "    <div>\n",
              "<style scoped>\n",
              "    .dataframe tbody tr th:only-of-type {\n",
              "        vertical-align: middle;\n",
              "    }\n",
              "\n",
              "    .dataframe tbody tr th {\n",
              "        vertical-align: top;\n",
              "    }\n",
              "\n",
              "    .dataframe thead th {\n",
              "        text-align: right;\n",
              "    }\n",
              "</style>\n",
              "<table border=\"1\" class=\"dataframe\">\n",
              "  <thead>\n",
              "    <tr style=\"text-align: right;\">\n",
              "      <th></th>\n",
              "      <th>review</th>\n",
              "      <th>sentiment</th>\n",
              "      <th>lemmatized_text</th>\n",
              "      <th>encoded_label</th>\n",
              "    </tr>\n",
              "  </thead>\n",
              "  <tbody>\n",
              "    <tr>\n",
              "      <th>0</th>\n",
              "      <td>گھر خواتین بارے دستاویزی فلم ہے۔ لحاظ دلچسپ با...</td>\n",
              "      <td>negative</td>\n",
              "      <td>یہ بے گھر خواتین کے بارے میں ایک دستاویزی فلم ...</td>\n",
              "      <td>0</td>\n",
              "    </tr>\n",
              "    <tr>\n",
              "      <th>1</th>\n",
              "      <td>بالکل اچھ ،ی کام ، پوری فلم گرڈج کہیں ترتیب لو...</td>\n",
              "      <td>negative</td>\n",
              "      <td>بالکل بھی اچھ ،ی کام نہیں کیا گیا ، پوری فلم ص...</td>\n",
              "      <td>0</td>\n",
              "    </tr>\n",
              "    <tr>\n",
              "      <th>2</th>\n",
              "      <td>عجیب بات لوگوں حشر ہے۔ ڈی وی ڈی خوردہ فروش ڈسک...</td>\n",
              "      <td>negative</td>\n",
              "      <td>یہ عجیب بات ہے کہ کچھ لوگوں کا کیا حشر ہوتا ہے...</td>\n",
              "      <td>0</td>\n",
              "    </tr>\n",
              "  </tbody>\n",
              "</table>\n",
              "</div>\n",
              "    <div class=\"colab-df-buttons\">\n",
              "\n",
              "  <div class=\"colab-df-container\">\n",
              "    <button class=\"colab-df-convert\" onclick=\"convertToInteractive('df-a2401aca-6ae9-49da-914a-10f6c0c72a36')\"\n",
              "            title=\"Convert this dataframe to an interactive table.\"\n",
              "            style=\"display:none;\">\n",
              "\n",
              "  <svg xmlns=\"http://www.w3.org/2000/svg\" height=\"24px\" viewBox=\"0 -960 960 960\">\n",
              "    <path d=\"M120-120v-720h720v720H120Zm60-500h600v-160H180v160Zm220 220h160v-160H400v160Zm0 220h160v-160H400v160ZM180-400h160v-160H180v160Zm440 0h160v-160H620v160ZM180-180h160v-160H180v160Zm440 0h160v-160H620v160Z\"/>\n",
              "  </svg>\n",
              "    </button>\n",
              "\n",
              "  <style>\n",
              "    .colab-df-container {\n",
              "      display:flex;\n",
              "      gap: 12px;\n",
              "    }\n",
              "\n",
              "    .colab-df-convert {\n",
              "      background-color: #E8F0FE;\n",
              "      border: none;\n",
              "      border-radius: 50%;\n",
              "      cursor: pointer;\n",
              "      display: none;\n",
              "      fill: #1967D2;\n",
              "      height: 32px;\n",
              "      padding: 0 0 0 0;\n",
              "      width: 32px;\n",
              "    }\n",
              "\n",
              "    .colab-df-convert:hover {\n",
              "      background-color: #E2EBFA;\n",
              "      box-shadow: 0px 1px 2px rgba(60, 64, 67, 0.3), 0px 1px 3px 1px rgba(60, 64, 67, 0.15);\n",
              "      fill: #174EA6;\n",
              "    }\n",
              "\n",
              "    .colab-df-buttons div {\n",
              "      margin-bottom: 4px;\n",
              "    }\n",
              "\n",
              "    [theme=dark] .colab-df-convert {\n",
              "      background-color: #3B4455;\n",
              "      fill: #D2E3FC;\n",
              "    }\n",
              "\n",
              "    [theme=dark] .colab-df-convert:hover {\n",
              "      background-color: #434B5C;\n",
              "      box-shadow: 0px 1px 3px 1px rgba(0, 0, 0, 0.15);\n",
              "      filter: drop-shadow(0px 1px 2px rgba(0, 0, 0, 0.3));\n",
              "      fill: #FFFFFF;\n",
              "    }\n",
              "  </style>\n",
              "\n",
              "    <script>\n",
              "      const buttonEl =\n",
              "        document.querySelector('#df-a2401aca-6ae9-49da-914a-10f6c0c72a36 button.colab-df-convert');\n",
              "      buttonEl.style.display =\n",
              "        google.colab.kernel.accessAllowed ? 'block' : 'none';\n",
              "\n",
              "      async function convertToInteractive(key) {\n",
              "        const element = document.querySelector('#df-a2401aca-6ae9-49da-914a-10f6c0c72a36');\n",
              "        const dataTable =\n",
              "          await google.colab.kernel.invokeFunction('convertToInteractive',\n",
              "                                                    [key], {});\n",
              "        if (!dataTable) return;\n",
              "\n",
              "        const docLinkHtml = 'Like what you see? Visit the ' +\n",
              "          '<a target=\"_blank\" href=https://colab.research.google.com/notebooks/data_table.ipynb>data table notebook</a>'\n",
              "          + ' to learn more about interactive tables.';\n",
              "        element.innerHTML = '';\n",
              "        dataTable['output_type'] = 'display_data';\n",
              "        await google.colab.output.renderOutput(dataTable, element);\n",
              "        const docLink = document.createElement('div');\n",
              "        docLink.innerHTML = docLinkHtml;\n",
              "        element.appendChild(docLink);\n",
              "      }\n",
              "    </script>\n",
              "  </div>\n",
              "\n",
              "\n",
              "<div id=\"df-e648238c-6cb9-4e1e-8f47-e9230e07f823\">\n",
              "  <button class=\"colab-df-quickchart\" onclick=\"quickchart('df-e648238c-6cb9-4e1e-8f47-e9230e07f823')\"\n",
              "            title=\"Suggest charts\"\n",
              "            style=\"display:none;\">\n",
              "\n",
              "<svg xmlns=\"http://www.w3.org/2000/svg\" height=\"24px\"viewBox=\"0 0 24 24\"\n",
              "     width=\"24px\">\n",
              "    <g>\n",
              "        <path d=\"M19 3H5c-1.1 0-2 .9-2 2v14c0 1.1.9 2 2 2h14c1.1 0 2-.9 2-2V5c0-1.1-.9-2-2-2zM9 17H7v-7h2v7zm4 0h-2V7h2v10zm4 0h-2v-4h2v4z\"/>\n",
              "    </g>\n",
              "</svg>\n",
              "  </button>\n",
              "\n",
              "<style>\n",
              "  .colab-df-quickchart {\n",
              "      --bg-color: #E8F0FE;\n",
              "      --fill-color: #1967D2;\n",
              "      --hover-bg-color: #E2EBFA;\n",
              "      --hover-fill-color: #174EA6;\n",
              "      --disabled-fill-color: #AAA;\n",
              "      --disabled-bg-color: #DDD;\n",
              "  }\n",
              "\n",
              "  [theme=dark] .colab-df-quickchart {\n",
              "      --bg-color: #3B4455;\n",
              "      --fill-color: #D2E3FC;\n",
              "      --hover-bg-color: #434B5C;\n",
              "      --hover-fill-color: #FFFFFF;\n",
              "      --disabled-bg-color: #3B4455;\n",
              "      --disabled-fill-color: #666;\n",
              "  }\n",
              "\n",
              "  .colab-df-quickchart {\n",
              "    background-color: var(--bg-color);\n",
              "    border: none;\n",
              "    border-radius: 50%;\n",
              "    cursor: pointer;\n",
              "    display: none;\n",
              "    fill: var(--fill-color);\n",
              "    height: 32px;\n",
              "    padding: 0;\n",
              "    width: 32px;\n",
              "  }\n",
              "\n",
              "  .colab-df-quickchart:hover {\n",
              "    background-color: var(--hover-bg-color);\n",
              "    box-shadow: 0 1px 2px rgba(60, 64, 67, 0.3), 0 1px 3px 1px rgba(60, 64, 67, 0.15);\n",
              "    fill: var(--button-hover-fill-color);\n",
              "  }\n",
              "\n",
              "  .colab-df-quickchart-complete:disabled,\n",
              "  .colab-df-quickchart-complete:disabled:hover {\n",
              "    background-color: var(--disabled-bg-color);\n",
              "    fill: var(--disabled-fill-color);\n",
              "    box-shadow: none;\n",
              "  }\n",
              "\n",
              "  .colab-df-spinner {\n",
              "    border: 2px solid var(--fill-color);\n",
              "    border-color: transparent;\n",
              "    border-bottom-color: var(--fill-color);\n",
              "    animation:\n",
              "      spin 1s steps(1) infinite;\n",
              "  }\n",
              "\n",
              "  @keyframes spin {\n",
              "    0% {\n",
              "      border-color: transparent;\n",
              "      border-bottom-color: var(--fill-color);\n",
              "      border-left-color: var(--fill-color);\n",
              "    }\n",
              "    20% {\n",
              "      border-color: transparent;\n",
              "      border-left-color: var(--fill-color);\n",
              "      border-top-color: var(--fill-color);\n",
              "    }\n",
              "    30% {\n",
              "      border-color: transparent;\n",
              "      border-left-color: var(--fill-color);\n",
              "      border-top-color: var(--fill-color);\n",
              "      border-right-color: var(--fill-color);\n",
              "    }\n",
              "    40% {\n",
              "      border-color: transparent;\n",
              "      border-right-color: var(--fill-color);\n",
              "      border-top-color: var(--fill-color);\n",
              "    }\n",
              "    60% {\n",
              "      border-color: transparent;\n",
              "      border-right-color: var(--fill-color);\n",
              "    }\n",
              "    80% {\n",
              "      border-color: transparent;\n",
              "      border-right-color: var(--fill-color);\n",
              "      border-bottom-color: var(--fill-color);\n",
              "    }\n",
              "    90% {\n",
              "      border-color: transparent;\n",
              "      border-bottom-color: var(--fill-color);\n",
              "    }\n",
              "  }\n",
              "</style>\n",
              "\n",
              "  <script>\n",
              "    async function quickchart(key) {\n",
              "      const quickchartButtonEl =\n",
              "        document.querySelector('#' + key + ' button');\n",
              "      quickchartButtonEl.disabled = true;  // To prevent multiple clicks.\n",
              "      quickchartButtonEl.classList.add('colab-df-spinner');\n",
              "      try {\n",
              "        const charts = await google.colab.kernel.invokeFunction(\n",
              "            'suggestCharts', [key], {});\n",
              "      } catch (error) {\n",
              "        console.error('Error during call to suggestCharts:', error);\n",
              "      }\n",
              "      quickchartButtonEl.classList.remove('colab-df-spinner');\n",
              "      quickchartButtonEl.classList.add('colab-df-quickchart-complete');\n",
              "    }\n",
              "    (() => {\n",
              "      let quickchartButtonEl =\n",
              "        document.querySelector('#df-e648238c-6cb9-4e1e-8f47-e9230e07f823 button');\n",
              "      quickchartButtonEl.style.display =\n",
              "        google.colab.kernel.accessAllowed ? 'block' : 'none';\n",
              "    })();\n",
              "  </script>\n",
              "</div>\n",
              "    </div>\n",
              "  </div>\n"
            ],
            "application/vnd.google.colaboratory.intrinsic+json": {
              "type": "dataframe",
              "variable_name": "df_urdu",
              "summary": "{\n  \"name\": \"df_urdu\",\n  \"rows\": 10000,\n  \"fields\": [\n    {\n      \"column\": \"review\",\n      \"properties\": {\n        \"dtype\": \"string\",\n        \"num_unique_values\": 9977,\n        \"samples\": [\n          \"\\u0633\\u0648\\u0686\\u0627 \\u0627\\u0686\\u06be\\u06cc \\u0641\\u0644\\u0645 \\u062a\\u06be\\u06cc\\u0626\\u0679\\u0631\\u0632 \\u0631\\u06cc\\u0644\\u06cc\\u0632 \\u0686\\u0627\\u06c1\\u0626\\u06d2 \\u062a\\u06be\\u06cc\\u06d4 \\u0628\\u0644\\u0627\\u06a9 \\u0628\\u0633\\u0679\\u0631 \\u0627\\u0686\\u06be\\u06cc \\u062e\\u0627\\u0635\\u06cc \\u0631\\u0642\\u0645 \\u06c1\\u0648\\u062a\\u06cc\\u06d4 \\u0645\\u0648\\u0648\\u06cc \\u0631\\u06c1\\u0633\\u06cc \\u062d\\u06cc\\u0631\\u0627\\u0646 \\u0627\\u0635\\u0644 \\u062f\\u0646\\u06cc\\u0627 \\u06a9\\u062a\\u0646\\u0627 \\u0686\\u0644 \\u06c1\\u06d2\\u06d4 \\u062c\\u0633\\u0679\\u0646 \\u0679\\u0645\\u0628\\u0631\\u0644\\u0627\\u06a9 \\u0627\\u0686\\u06be\\u0627 \\u06a9\\u0627\\u0645 \\u06a9\\u06cc\\u0627\\u06d4 \\u062a\\u0648\\u0642\\u0639 \\u062c\\u0633\\u0679\\u0646 \\u0679\\u0645\\u0628\\u0631\\u0644\\u0627\\u06a9 \\u0627\\u0686\\u06be\\u06cc \\u0646\\u0648\\u06a9\\u0631\\u06cc \\u06af\\u06d2\\u06d4 \\u067e\\u06c1\\u0644\\u06cc \\u0641\\u0644\\u0645 \\u062f\\u06cc\\u06a9\\u06be\\u062a\\u06d2 \\u0627\\u0686\\u06be\\u0627 \\u06a9\\u0627\\u0645 \\u06a9\\u06cc\\u0627\\u06d4 \\u0641\\u0644\\u0645 \\u0686\\u0646\\u0646\\u0627 \\u062f\\u06cc\\u06a9\\u06be\\u0646\\u0627 \\u0627\\u0686\\u06be\\u0627 \\u0645\\u0639\\u0644\\u0648\\u0645 \\u0631\\u0627\\u062a \\u06a9\\u0631\\u0627\\u06cc\\u06c1 \\u0644\\u06cc\\u0646\\u0627 \\u0686\\u0627\\u06c1\\u062a\\u06d2 \\u06c1\\u06cc\\u06ba\\u06d4 \\u0627\\u0686\\u06be\\u06cc \\u062c\\u0627\\u0646\\u0627 \\u0686\\u0627\\u06c1\\u0626\\u06d2. \\u06a9\\u0627\\u0633\\u0679 \\u0639\\u0645\\u062f\\u06c1 \\u062a\\u06be\\u0627\\u06d4 \\u0644\\u06c1\\u0630\\u0627 \\u0645\\u0634\\u0648\\u0631\\u06c1 \\u0641\\u0644\\u0645 \\u0686\\u06cc\\u06a9 \\u06a9\\u0631\\u06d2!\",\n          \"\\u0646\\u0627\\u0626\\u0679 \\u0633\\u0646\\u0646\\u06d2 \\u0644\\u0637\\u0641 \\u0627\\u0646\\u062f\\u0648\\u0632 \\u06a9\\u06cc\\u0627\\u06d4 \\u06af\\u0631\\u0645\\u06cc\\u0648\\u06ba \\u0628\\u06c1\\u062a\\u0631\\u06cc\\u0646 \\u0641\\u0644\\u0645 \\u06c1\\u06d2\\u06d4 \\u0631\\u0648\\u0628\\u0646 \\u0648\\u0644\\u06cc\\u0645\\u0632 \\u0628\\u06c1\\u062a\\u0631\\u06cc\\u0646 \\u067e\\u0631\\u0641\\u0627\\u0631\\u0645\\u0646\\u0633 \\u067e\\u06cc\\u0634 \\u06a9\\u06cc\\u06d4 \\u062d\\u0642\\u06cc\\u0642\\u062a \\u060c \\u067e\\u0648\\u0631\\u06cc \\u06a9\\u0627\\u0633\\u0679 \\u0639\\u0645\\u062f\\u06c1 \\u062a\\u06be\\u06cc\\u06d4 \\u06a9\\u0631\\u062f\\u0627\\u0631\\u0648\\u06ba \\u0635\\u062d\\u06cc\\u062d \\u0646\\u0648\\u0679 \\u06a9\\u06be\\u06cc\\u0644\\u06d2 - \\u06a9\\u0645 \\u0628\\u06be\\u06cc\\u06d4 \\u0633\\u06cc\\u0646\\u0688\\u0631\\u0627 \\u0627\\u0648\\u06c1 \\u062d\\u06cc\\u0631\\u062a \\u0627\\u0646\\u06af\\u06cc\\u0632 \\u0645\\u0632\\u0627\\u062d\\u06cc\\u06c1 \\u0679\\u0686 \\u0634\\u0627\\u0645\\u0644 \\u06a9\\u06cc\\u0627\\u06d4 \\u0679\\u0648\\u0646\\u06cc \\u06a9\\u0648\\u0644\\u06cc\\u0679 \\u0645\\u0627\\u06ba \\u062d\\u06cc\\u062b\\u06cc\\u062a \\u0627\\u0686\\u06be\\u0627 \\u060c \\u0627\\u0648\\u067e\\u0631 \\u06c1\\u06d2\\u06d4 \\u0642\\u0627\\u0628\\u0644 \\u0627\\u0639\\u062a\\u0645\\u0627\\u062f \\u06c1\\u06d2\\u06d4 \\u0645\\u062e\\u062a\\u0635\\u0631 \\u0641\\u0644\\u0645 \\u060c \\u0645\\u062d\\u0636 \\u0688\\u06cc\\u0691\\u06be \\u06af\\u06be\\u0646\\u0679\\u06c1 \\u0648\\u0642\\u062a \\u06c1\\u06d2\\u06d4 \\u062f\\u06cc\\u06a9\\u06be\\u0627 \\u0639\\u0627\\u0645 \\u0631\\u06cc\\u0644\\u06cc\\u0632 \\u0648\\u0631\\u0698\\u0646 \\u0633\\u0646\\u0688\\u06cc\\u0646\\u0633 \\u0648\\u0631\\u0698\\u0646 \\u0646\\u0648 \\u0645\\u0646\\u0679 \\u0686\\u06be\\u0648\\u0679\\u0627 \\u06c1\\u06d2\\u06d4 \\u062d\\u06cc\\u0631\\u062a \\u067e\\u0631\\u06cc\\u0634\\u0627\\u0646 \\u06a9\\u0646 \\u062a\\u0635\\u0627\\u0648\\u06cc\\u0631 \\u0641\\u0644\\u0645 \\u06a9\\u0627\\u0679\\u0627 \\u062a\\u06be\\u0627\\u06d4 \\u06c1\\u062f\\u0627\\u06cc\\u062a\\u06a9\\u0627\\u0631 \\u06a9\\u06c1\\u0627\\u0646\\u06cc \\u0633\\u0646\\u0627\\u0626\\u06cc \\u0633\\u06cc\\u062f\\u06be\\u06d2 \\u0627\\u0646\\u062f\\u0627\\u0632 \\u060c \\u062f\\u0646\\u0648\\u06ba \\u0633\\u0627\\u0631\\u06d2 \\u06c1\\u062f\\u0627\\u06cc\\u062a \\u06a9\\u0627\\u0631\\u0648\\u06ba \\u062a\\u0627\\u0632\\u06c1 \\u062f\\u0645 \\u062a\\u0628\\u062f\\u06cc\\u0644\\u06cc \\u0644\\u06af\\u062a\\u0627 \\u06a9\\u0627\\u0645 \\u0646\\u0627\\u0638\\u0631\\u06cc\\u0646 \\u0645\\u062a\\u0627\\u062b\\u0631 \\u0628\\u062c\\u0627\\u0626\\u06d2 \\u0633\\u0627\\u0645\\u0639\\u06cc\\u0646 \\u0645\\u062a\\u0627\\u062b\\u0631 \\u06c1\\u06d2\\u06d4 \\u06a9\\u06c1\\u0627\\u0646\\u06cc \\u0633\\u0646\\u0627\\u0626\\u06cc\\u06ba \\u0627\\u0686\\u06be\\u06cc \\u0628\\u062a\\u0627\\u0626\\u06cc\\u06ba\\u06d4 \\u067e\\u06cc\\u0634 \\u0646\\u0638\\u0627\\u0631\\u06c1 \\u0627\\u0634\\u062a\\u06c1\\u0627\\u0631\\u0627\\u062a \\u0630\\u0631\\u06cc\\u0639\\u06c1 \\u0686\\u0648\\u0633\\u0646\\u06d2 \\u0639\\u0627\\u062f\\u062a \\u0628\\u0646\\u06cc\\u06ba\\u06d4 \\u06c1\\u0686\\u06a9\\u0648\\u06a9\\u06cc\\u0626\\u0646 \\u062a\\u06be\\u0631\\u0644\\u0631 \\u06c1\\u06d2\\u06d4 \\u0646\\u0627\\u0626\\u0679 \\u0633\\u0646\\u0646\\u06d2 \\u062f\\u06cc\\u06a9\\u06be\\u06cc\\u06ba \\u0627\\u0686\\u06be\\u06cc \\u06a9\\u06c1\\u06cc \\u0627\\u0686\\u06be\\u06cc \\u06a9\\u06c1\\u0627\\u0646\\u06cc \\u062f\\u06cc\\u06a9\\u06be\\u0646\\u0627 \\u0686\\u0627\\u06c1\\u062a\\u06d2 \\u06c1\\u06cc\\u06ba\\u06d4 \\u06c1\\u0686\\u06a9\\u0627\\u06a9 \\u062a\\u0648\\u0642\\u0639 \\u0645\\u0627\\u06cc\\u0648\\u0633 \\u06c1\\u0648\\u062c\\u0627\\u0626\\u06cc\\u06ba \\u06af\\u06d2\\u06d4 \\u0641\\u0644\\u0645 \\u0633\\u0627\\u062a\\u06be \\u0634\\u06a9\\u0627\\u06cc\\u062a \\u062e\\u062a\\u0645 \\u062a\\u06be\\u06cc\\u06d4 \\u06c1\\u062f\\u0627\\u06cc\\u062a\\u06a9\\u0627\\u0631 \\u0633\\u0627\\u0645\\u0639\\u06cc\\u0646 \\u062a\\u062e\\u06cc\\u0644 \\u0686\\u06be\\u0648\\u0691 \\u060c \\u0686\\u06be\\u0648\\u0679\\u06cc \\u06a9\\u0648\\u0628\\u0644\\u06cc \\u06c1\\u06d2\\u06d4\",\n          \"\\u0642\\u0633\\u0637 \\u0648\\u0642\\u0648\\u0641 \\u062a\\u0646\\u0638\\u06cc\\u0645 \\u0646\\u0638\\u0631 \\u06c1\\u06d2\\u06d4 \\u062d\\u0642\\u06cc\\u0642\\u062a \\u060c \\u06c1\\u06cc\\u06ba\\u06d4 \\u0628\\u06c1\\u0631 \\u062d\\u0627\\u0644 \\u060c \\u067e\\u0644\\u0627\\u0679 \\u0686\\u0644\\u062a\\u0627 \\u0644\\u06af\\u062a\\u0627 \\u0634\\u062e\\u0635 \\u062c\\u06cc\\u0633\\u0646 \\u0628\\u0648\\u0631\\u0646 \\u0645\\u0627\\u0631\\u0646\\u06d2 \\u0644\\u0648\\u06af\\u0648\\u06ba \\u0633\\u0645\\u06cc\\u062a \\u06c1\\u0644\\u0627\\u06a9 \\u0645\\u0646\\u0638\\u0648\\u0631\\u06cc \\u06c1\\u06d2\\u06d4 \\u0645\\u06cc\\u0679 \\u0688\\u06cc\\u0645\\u0646 \\u0645\\u0639\\u062a\\u0628\\u0631 \\u06a9\\u0627\\u0645 \\u0628\\u0648\\u0631\\u0646 \\u0642\\u062f\\u0645 \\u06a9\\u0648\\u0634\\u0634 \\u067e\\u0648\\u0631\\u06cc \\u0641\\u0644\\u0645 \\u06c1\\u0644\\u0627\\u06a9 \\u06cc\\u0627\\u062f \\u06a9\\u0648\\u0634\\u0634 \\u06a9\\u06c1\\u0627\\u06ba \\u06a9\\u06c1\\u0627\\u06ba \\u06c1\\u06d2\\u06d4 \\u0644\\u0648\\u06af\\u0648\\u06ba \\u0645\\u062f\\u062f \\u0645\\u0644\\u062a\\u06cc \\u0644\\u06af\\u062a\\u0627 \\u0641\\u0644\\u0645 \\u0644\\u0645\\u062d\\u06d2 \\u060c \\u062c\\u0627\\u0646 \\u0645\\u0627\\u0631\\u0646\\u06d2 \\u06a9\\u0648\\u0634\\u0634 \\u06c1\\u06d2\\u06d4 \\u0641\\u0644\\u0645 \\u0622\\u0631\\u0627\\u0645 \\u06a9\\u0645 \\u0648\\u0642\\u062a \\u0627\\u06cc\\u06a9\\u0634\\u0646 \\u0633\\u0644\\u0633\\u0644\\u06d2 \\u0628\\u0627\\u0644\\u06a9\\u0644 \\u062d\\u0642\\u06cc\\u0642\\u06cc \\u0646\\u0638\\u0631 \\u06c1\\u06cc\\u06ba\\u06d4 \\u0645\\u062a\\u0632\\u0644\\u0632\\u0644 \\u06a9\\u06cc\\u0645\\u0631\\u06c1 \\u0633\\u0627\\u062a\\u06be \\u0641\\u0644\\u0645\\u0627\\u0626\\u06d2 \\u0633\\u0627\\u0631\\u06d2 \\u0633\\u0644\\u0633\\u0644\\u06d2 \\u062d\\u0642\\u06cc\\u0642\\u062a \\u067e\\u0633\\u0646\\u062f\\u06cc \\u0627\\u0636\\u0627\\u0641\\u06c1 \\u0633\\u0627\\u0631\\u06cc \\u062a\\u0635\\u0648\\u06cc\\u0631\\u0648\\u06ba \\u06a9\\u0645 \\u06c1\\u0627\\u0644\\u06cc \\u0648\\u0648\\u0688 \\u0644\\u06af\\u062a\\u06d2 \\u06c1\\u06cc\\u06ba\\u06d4 \\u062a\\u0631\\u062a\\u06cc\\u0628\\u06cc\\u06ba \\u0641\\u0644\\u0645 \\u0627\\u062d\\u0633\\u0627\\u0633 \\u062d\\u0642\\u06cc\\u0642\\u062a \\u0634\\u0627\\u0645\\u0644 \\u06c1\\u06cc\\u06ba\\u06d4 \\u062a\\u0633\\u0644\\u0633\\u0644 \\u0686\\u0627\\u0644 \\u0686\\u0644\\u0646 \\u062d\\u06cc\\u0631\\u0627\\u0646 \\u0645\\u0631\\u0646\\u06d2 \\u0628\\u0648\\u0631\\u0646 \\u0633\\u0631 \\u06c1\\u06d2\\u06d4 \\u0646\\u0648\\u0639\\u06cc\\u062a \\u0639\\u0645\\u0644 \\u062f\\u06cc\\u06a9\\u06be\\u0646\\u06d2 \\u062a\\u0641\\u0631\\u06cc\\u062d \\u200b\\u200b\\u06a9\\u0631\\u0646\\u0627 \\u0686\\u0627\\u06c1\\u062a\\u06d2 \\u06cc\\u0642\\u06cc\\u0646 \\u0633\\u06cc\\u0631\\u06cc\\u0632 \\u0627\\u06af\\u0644\\u06cc \\u0641\\u0644\\u0645 \\u0631\\u0627\\u06c1\\u0646\\u0645\\u0627\\u0626\\u06cc \\u06af\\u06cc\\u06d4\"\n        ],\n        \"semantic_type\": \"\",\n        \"description\": \"\"\n      }\n    },\n    {\n      \"column\": \"sentiment\",\n      \"properties\": {\n        \"dtype\": \"category\",\n        \"num_unique_values\": 2,\n        \"samples\": [\n          \"positive\",\n          \"negative\"\n        ],\n        \"semantic_type\": \"\",\n        \"description\": \"\"\n      }\n    },\n    {\n      \"column\": \"lemmatized_text\",\n      \"properties\": {\n        \"dtype\": \"string\",\n        \"num_unique_values\": 9977,\n        \"samples\": [\n          \"\\u0645\\u06cc\\u06ba \\u0646\\u06d2 \\u0633\\u0648\\u0686\\u0627 \\u06a9\\u06c1 \\u06cc\\u06c1 \\u0628\\u06c1\\u062a \\u0627\\u0686\\u06be\\u06cc \\u0641\\u0644\\u0645 \\u06c1\\u06d2 \\u0627\\u0648\\u0631 \\u067e\\u06c1\\u0644\\u06d2 \\u062a\\u06be\\u06cc\\u0626\\u0679\\u0631\\u0632 \\u0645\\u06cc\\u06ba \\u0631\\u06cc\\u0644\\u06cc\\u0632 \\u06c1\\u0648\\u0646\\u06cc \\u0686\\u0627\\u06c1\\u0626\\u06d2 \\u062a\\u06be\\u06cc\\u06d4 \\u06cc\\u06c1 \\u0627\\u06cc\\u06a9 \\u0628\\u0691\\u0627 \\u0628\\u0644\\u0627\\u06a9 \\u0628\\u0633\\u0679\\u0631 \\u0646\\u06c1 \\u06c1\\u0648\\u062a\\u0627 \\u0644\\u06cc\\u06a9\\u0646 \\u0627\\u0633 \\u0633\\u06d2 \\u06a9\\u0686\\u06be \\u0627\\u0686\\u06be\\u06cc \\u062e\\u0627\\u0635\\u06cc \\u0631\\u0642\\u0645 \\u06c1\\u0648\\u062a\\u06cc\\u06d4 \\u0645\\u0648\\u0648\\u06cc \\u0645\\u06cc\\u06ba \\u0631\\u06c1\\u0633\\u06cc \\u06c1\\u06d2 \\u0627\\u0648\\u0631 \\u0622\\u067e \\u062d\\u06cc\\u0631\\u0627\\u0646 \\u06c1\\u06cc\\u06ba \\u06a9\\u06c1 \\u0627\\u0635\\u0644 \\u062f\\u0646\\u06cc\\u0627 \\u0645\\u06cc\\u06ba \\u0627\\u0633 \\u06a9\\u0627 \\u06a9\\u062a\\u0646\\u0627 \\u0686\\u0644 \\u0631\\u06c1\\u0627 \\u06c1\\u06d2\\u06d4 \\u062c\\u0633\\u0679\\u0646 \\u0679\\u0645\\u0628\\u0631\\u0644\\u0627\\u06a9 \\u0646\\u06d2 \\u0627\\u06cc\\u06a9 \\u0627\\u0686\\u06be\\u0627 \\u06a9\\u0627\\u0645 \\u06a9\\u06cc\\u0627\\u06d4 \\u0645\\u062c\\u06be\\u06d2 \\u062a\\u0648\\u0642\\u0639 \\u0646\\u06c1\\u06cc\\u06ba \\u062a\\u06be\\u06cc \\u06a9\\u06c1 \\u062c\\u0633\\u0679\\u0646 \\u0679\\u0645\\u0628\\u0631\\u0644\\u0627\\u06a9 \\u0633\\u06d2 \\u0648\\u06c1 \\u0627\\u0686\\u06be\\u06cc \\u0646\\u0648\\u06a9\\u0631\\u06cc \\u06a9\\u0631\\u06cc\\u06ba \\u06af\\u06d2\\u06d4 \\u0627\\u0633 \\u06a9\\u06cc \\u067e\\u06c1\\u0644\\u06cc \\u0641\\u0644\\u0645 \\u06a9\\u0648 \\u062f\\u06cc\\u06a9\\u06be\\u062a\\u06d2 \\u06c1\\u0648\\u0626\\u06d2 \\u0627\\u0646\\u06c1\\u0648\\u06ba \\u0646\\u06d2 \\u0627\\u0686\\u06be\\u0627 \\u06a9\\u0627\\u0645 \\u06a9\\u06cc\\u0627\\u06d4 \\u06cc\\u06c1 \\u0627\\u06cc\\u06a9 \\u0627\\u06cc\\u0633\\u06cc \\u0641\\u0644\\u0645 \\u06c1\\u06d2 \\u062c\\u0633 \\u06a9\\u0648 \\u0686\\u0646\\u0646\\u0627 \\u0627\\u0648\\u0631 \\u062f\\u06cc\\u06a9\\u06be\\u0646\\u0627 \\u0627\\u0686\\u06be\\u0627 \\u06c1\\u06d2 \\u062c\\u0628 \\u0622\\u067e \\u06a9\\u0648 \\u0645\\u0639\\u0644\\u0648\\u0645 \\u06c1\\u06cc \\u0646\\u06c1\\u06cc\\u06ba \\u06c1\\u0648\\u062a\\u0627 \\u06c1\\u06d2 \\u06a9\\u06c1 \\u0622\\u067e \\u0627\\u0633 \\u0631\\u0627\\u062a \\u06a9\\u0648 \\u06a9\\u06cc\\u0627 \\u06a9\\u0631\\u0627\\u06cc\\u06c1 \\u067e\\u0631 \\u0644\\u06cc\\u0646\\u0627 \\u0686\\u0627\\u06c1\\u062a\\u06d2 \\u06c1\\u06cc\\u06ba\\u06d4 \\u06cc\\u06c1 \\u0628\\u06c1\\u062a \\u0627\\u0686\\u06be\\u06cc \\u0637\\u0631\\u062d \\u0633\\u06d2 \\u062c\\u0627\\u0646\\u0627 \\u0686\\u0627\\u06c1\\u0626\\u06d2. \\u06a9\\u0627\\u0633\\u0679 \\u0628\\u06c1\\u062a \\u0639\\u0645\\u062f\\u06c1 \\u062a\\u06be\\u0627\\u06d4 \\u0644\\u06c1\\u0630\\u0627 \\u0645\\u06cc\\u06ba \\u0628\\u0691\\u06cc \\u0645\\u0634\\u0648\\u0631\\u06c1 \\u062f\\u06cc\\u062a\\u0627 \\u06c1\\u0648\\u06ba \\u06a9\\u06c1 \\u06c1\\u0631 \\u06a9\\u0648\\u0626\\u06cc \\u0627\\u0633 \\u0641\\u0644\\u0645 \\u06a9\\u0648 \\u0686\\u06cc\\u06a9 \\u06a9\\u0631\\u06d2! \",\n          \"\\u0645\\u06cc\\u06ba \\u0646\\u06d2 \\u0646\\u0627\\u0626\\u0679 \\u0633\\u0646\\u0646\\u06d2 \\u0648\\u0627\\u0644\\u0648\\u06ba \\u06a9\\u0648 \\u0628\\u06c1\\u062a \\u0644\\u0637\\u0641 \\u0627\\u0646\\u062f\\u0648\\u0632 \\u06a9\\u06cc\\u0627\\u06d4 \\u06cc\\u06c1 \\u06af\\u0631\\u0645\\u06cc\\u0648\\u06ba \\u06a9\\u06cc \\u0627\\u06cc\\u06a9 \\u0628\\u06c1\\u062a\\u0631\\u06cc\\u0646 \\u0641\\u0644\\u0645 \\u06c1\\u06d2\\u06d4 \\u0631\\u0648\\u0628\\u0646 \\u0648\\u0644\\u06cc\\u0645\\u0632 \\u0646\\u06d2 \\u0627\\u067e\\u0646\\u06cc \\u0627\\u06cc\\u06a9 \\u0628\\u06c1\\u062a\\u0631\\u06cc\\u0646 \\u067e\\u0631\\u0641\\u0627\\u0631\\u0645\\u0646\\u0633 \\u067e\\u06cc\\u0634 \\u06a9\\u06cc\\u06d4 \\u062d\\u0642\\u06cc\\u0642\\u062a \\u0645\\u06cc\\u06ba \\u060c \\u067e\\u0648\\u0631\\u06cc \\u06a9\\u0627\\u0633\\u0679 \\u0628\\u06c1\\u062a \\u0639\\u0645\\u062f\\u06c1 \\u062a\\u06be\\u06cc\\u06d4 \\u0633\\u0628 \\u0646\\u06d2 \\u0627\\u067e\\u0646\\u06d2 \\u06a9\\u0631\\u062f\\u0627\\u0631\\u0648\\u06ba \\u06a9\\u06d2 \\u0644\\u0626\\u06d2 \\u0635\\u0631\\u0641 \\u0635\\u062d\\u06cc\\u062d \\u0646\\u0648\\u0679 \\u06a9\\u06be\\u06cc\\u0644\\u06d2 - \\u0632\\u06cc\\u0627\\u062f\\u06c1 \\u0646\\u06c1\\u06cc\\u06ba \\u0627\\u0648\\u0631 \\u0628\\u06c1\\u062a \\u06a9\\u0645 \\u0628\\u06be\\u06cc\\u06d4 \\u0633\\u06cc\\u0646\\u0688\\u0631\\u0627 \\u0627\\u0648\\u06c1 \\u0646\\u06d2 \\u0627\\u06cc\\u06a9 \\u062d\\u06cc\\u0631\\u062a \\u0627\\u0646\\u06af\\u06cc\\u0632 \\u0645\\u0632\\u0627\\u062d\\u06cc\\u06c1 \\u0679\\u0686 \\u0634\\u0627\\u0645\\u0644 \\u06a9\\u06cc\\u0627\\u06d4 \\u0679\\u0648\\u0646\\u06cc \\u06a9\\u0648\\u0644\\u06cc\\u0679 \\u0645\\u0627\\u06ba \\u06a9\\u06cc \\u062d\\u06cc\\u062b\\u06cc\\u062a \\u0633\\u06d2 \\u0628\\u06c1\\u062a \\u0627\\u0686\\u06be\\u0627 \\u06c1\\u06d2 \\u060c \\u0627\\u0648\\u0631 \\u06a9\\u0628\\u06be\\u06cc \\u0628\\u06be\\u06cc \\u0627\\u0648\\u067e\\u0631 \\u0646\\u06c1\\u06cc\\u06ba \\u062c\\u0627\\u062a\\u0627 \\u06c1\\u06d2\\u06d4 \\u06c1\\u0631 \\u0627\\u06cc\\u06a9 \\u0628\\u06c1\\u062a \\u0642\\u0627\\u0628\\u0644 \\u0627\\u0639\\u062a\\u0645\\u0627\\u062f \\u06c1\\u06d2\\u06d4 \\u06cc\\u06c1 \\u0627\\u06cc\\u06a9 \\u0645\\u062e\\u062a\\u0635\\u0631 \\u0641\\u0644\\u0645 \\u06c1\\u06d2 \\u060c \\u062c\\u0633 \\u0645\\u06cc\\u06ba \\u0645\\u062d\\u0636 \\u0688\\u06cc\\u0691\\u06be \\u06af\\u06be\\u0646\\u0679\\u06c1 \\u06a9\\u0627 \\u0648\\u0642\\u062a \\u06c1\\u0648\\u062a\\u0627 \\u06c1\\u06d2\\u06d4 \\u0645\\u06cc\\u06ba \\u0646\\u06d2 \\u062f\\u06cc\\u06a9\\u06be\\u0627 \\u06a9\\u06c1 \\u0639\\u0627\\u0645 \\u0631\\u06cc\\u0644\\u06cc\\u0632 \\u0648\\u0631\\u0698\\u0646 \\u0633\\u0646\\u0688\\u06cc\\u0646\\u0633 \\u0648\\u0631\\u0698\\u0646 \\u0633\\u06d2 \\u0646\\u0648 \\u0645\\u0646\\u0679 \\u0686\\u06be\\u0648\\u0679\\u0627 \\u06c1\\u06d2\\u06d4 \\u0645\\u062c\\u06be\\u06d2 \\u062d\\u06cc\\u0631\\u062a \\u06c1\\u06d2 \\u06a9\\u06c1 \\u06a9\\u06cc\\u0627 \\u06a9\\u0686\\u06be \\u0632\\u06cc\\u0627\\u062f\\u06c1 \\u067e\\u0631\\u06cc\\u0634\\u0627\\u0646 \\u06a9\\u0646 \\u062a\\u0635\\u0627\\u0648\\u06cc\\u0631 \\u06a9\\u0648 \\u0641\\u0644\\u0645 \\u0633\\u06d2 \\u06a9\\u0627\\u0679\\u0627 \\u06af\\u06cc\\u0627 \\u062a\\u06be\\u0627\\u06d4 \\u06c1\\u062f\\u0627\\u06cc\\u062a\\u06a9\\u0627\\u0631 \\u0646\\u06d2 \\u0627\\u06cc\\u06a9 \\u06a9\\u06c1\\u0627\\u0646\\u06cc \\u0633\\u0646\\u0627\\u0626\\u06cc \\u0627\\u0648\\u0631 \\u0627\\u0633\\u06d2 \\u0633\\u06cc\\u062f\\u06be\\u06d2 \\u0627\\u0646\\u062f\\u0627\\u0632 \\u0645\\u06cc\\u06ba \\u06a9\\u06cc\\u0627 \\u060c \\u062c\\u0648 \\u0627\\u0646 \\u062f\\u0646\\u0648\\u06ba \\u0628\\u06c1\\u062a \\u0633\\u0627\\u0631\\u06d2 \\u06c1\\u062f\\u0627\\u06cc\\u062a \\u06a9\\u0627\\u0631\\u0648\\u06ba \\u06a9\\u06cc \\u062a\\u0627\\u0632\\u06c1 \\u062f\\u0645 \\u062a\\u0628\\u062f\\u06cc\\u0644\\u06cc \\u06c1\\u06d2 \\u062c\\u0648 \\u0627\\u06cc\\u0633\\u0627 \\u0644\\u06af\\u062a\\u0627 \\u06c1\\u06d2 \\u06a9\\u06c1 \\u0627\\u0646 \\u06a9\\u0627 \\u06a9\\u0627\\u0645 \\u0646\\u0627\\u0638\\u0631\\u06cc\\u0646 \\u06a9\\u0648 \\u0645\\u062a\\u0627\\u062b\\u0631 \\u06a9\\u0631\\u0646\\u06d2 \\u06a9\\u06d2 \\u0628\\u062c\\u0627\\u0626\\u06d2 \\u0633\\u0627\\u0645\\u0639\\u06cc\\u0646 \\u06a9\\u0648 \\u0645\\u062a\\u0627\\u062b\\u0631 \\u06a9\\u0631\\u0646\\u0627 \\u06c1\\u06d2\\u06d4 \\u0627\\u06cc\\u06a9 \\u06a9\\u06c1\\u0627\\u0646\\u06cc \\u0633\\u0646\\u0627\\u0626\\u06cc\\u06ba \\u0627\\u0648\\u0631 \\u0627\\u0633\\u06d2 \\u0627\\u0686\\u06be\\u06cc \\u0637\\u0631\\u062d \\u0633\\u06d2 \\u0628\\u062a\\u0627\\u0626\\u06cc\\u06ba\\u06d4 \\u067e\\u06cc\\u0634 \\u0646\\u0638\\u0627\\u0631\\u06c1 \\u0627\\u0648\\u0631 \\u0627\\u0634\\u062a\\u06c1\\u0627\\u0631\\u0627\\u062a \\u06a9\\u06d2 \\u0630\\u0631\\u06cc\\u0639\\u06c1 \\u0686\\u0648\\u0633\\u0646\\u06d2 \\u06a9\\u06cc \\u0639\\u0627\\u062f\\u062a \\u0646\\u06c1 \\u0628\\u0646\\u06cc\\u06ba\\u06d4 \\u06cc\\u06c1 \\u06c1\\u0686\\u06a9\\u0648\\u06a9\\u06cc\\u0626\\u0646 \\u062a\\u06be\\u0631\\u0644\\u0631 \\u0646\\u06c1\\u06cc\\u06ba \\u06c1\\u06d2\\u06d4 \\u0646\\u0627\\u0626\\u0679 \\u0633\\u0646\\u0646\\u06d2 \\u0648\\u0627\\u0644\\u0648\\u06ba \\u06a9\\u0648 \\u062f\\u06cc\\u06a9\\u06be\\u06cc\\u06ba \\u06a9\\u06cc\\u0648\\u06ba \\u06a9\\u06c1 \\u0622\\u067e \\u0627\\u0686\\u06be\\u06cc \\u0637\\u0631\\u062d \\u0633\\u06d2 \\u06a9\\u06c1\\u06cc \\u06af\\u0626\\u06cc \\u0627\\u0686\\u06be\\u06cc \\u06a9\\u06c1\\u0627\\u0646\\u06cc \\u062f\\u06cc\\u06a9\\u06be\\u0646\\u0627 \\u0686\\u0627\\u06c1\\u062a\\u06d2 \\u06c1\\u06cc\\u06ba\\u06d4 \\u0627\\u06af\\u0631 \\u0622\\u067e \\u06c1\\u0686\\u06a9\\u0627\\u06a9 \\u06a9\\u06cc \\u062a\\u0648\\u0642\\u0639 \\u06a9\\u0631 \\u0631\\u06c1\\u06d2 \\u06c1\\u06cc\\u06ba \\u062a\\u0648 \\u0622\\u067e \\u0645\\u0627\\u06cc\\u0648\\u0633 \\u06c1\\u0648\\u062c\\u0627\\u0626\\u06cc\\u06ba \\u06af\\u06d2\\u06d4 \\u0641\\u0644\\u0645 \\u06a9\\u06d2 \\u0633\\u0627\\u062a\\u06be \\u0645\\u06cc\\u0631\\u06cc \\u0635\\u0631\\u0641 \\u0634\\u06a9\\u0627\\u06cc\\u062a \\u062e\\u062a\\u0645 \\u06c1\\u0648\\u0646\\u06d2 \\u0648\\u0627\\u0644\\u06cc \\u062a\\u06be\\u06cc\\u06d4 \\u06c1\\u062f\\u0627\\u06cc\\u062a\\u06a9\\u0627\\u0631 \\u0633\\u0627\\u0645\\u0639\\u06cc\\u0646 \\u06a9\\u06d2 \\u062a\\u062e\\u06cc\\u0644 \\u06a9\\u0648 \\u06a9\\u0686\\u06be \\u0627\\u0648\\u0631 \\u06c1\\u06cc \\u0686\\u06be\\u0648\\u0691 \\u0633\\u06a9\\u062a\\u0627 \\u062a\\u06be\\u0627 \\u060c \\u0644\\u06cc\\u06a9\\u0646 \\u06cc\\u06c1 \\u0627\\u06cc\\u06a9 \\u0686\\u06be\\u0648\\u0679\\u06cc \\u0633\\u06cc \\u06a9\\u0648\\u0628\\u0644\\u06cc \\u06c1\\u06d2\\u06d4 \"\n        ],\n        \"semantic_type\": \"\",\n        \"description\": \"\"\n      }\n    },\n    {\n      \"column\": \"encoded_label\",\n      \"properties\": {\n        \"dtype\": \"number\",\n        \"std\": 0,\n        \"min\": 0,\n        \"max\": 1,\n        \"num_unique_values\": 2,\n        \"samples\": [\n          1,\n          0\n        ],\n        \"semantic_type\": \"\",\n        \"description\": \"\"\n      }\n    }\n  ]\n}"
            }
          },
          "metadata": {},
          "execution_count": 60
        }
      ]
    },
    {
      "cell_type": "markdown",
      "source": [
        "#BUILDING THE MODEL"
      ],
      "metadata": {
        "id": "YnXUvzrCDBvA"
      }
    },
    {
      "cell_type": "code",
      "source": [
        "import numpy as np\n",
        "from sklearn.model_selection import train_test_split\n",
        "from tensorflow.keras.preprocessing.text import Tokenizer\n",
        "from tensorflow.keras.preprocessing.sequence import pad_sequences\n",
        "from tensorflow.keras.models import Sequential\n",
        "from tensorflow.keras.layers import Embedding, Bidirectional, LSTM, Dense, Dropout, GRU\n",
        "from tensorflow.keras.utils import to_categorical\n",
        "from sklearn.metrics import accuracy_score, classification_report\n"
      ],
      "metadata": {
        "id": "Lr_0WAN7FVhx"
      },
      "execution_count": 92,
      "outputs": []
    },
    {
      "cell_type": "code",
      "source": [
        "text_column = 'lemmatized_text'\n",
        "label_column = 'encoded_label'\n",
        "\n",
        "train_df, val_df = train_test_split(df_urdu, test_size = 0.2, random_state = 42)\n",
        "\n",
        "max_words = 10000\n",
        "tokenizer = Tokenizer(num_words = max_words)\n",
        "tokenizer.fit_on_texts(train_df[text_column])\n",
        "\n",
        "X_train = tokenizer.texts_to_sequences(train_df[text_column])\n",
        "X_val = tokenizer.texts_to_sequences(val_df[text_column])"
      ],
      "metadata": {
        "id": "XX6b44OICC7d"
      },
      "execution_count": 65,
      "outputs": []
    },
    {
      "cell_type": "code",
      "source": [
        "max_sequence_length = 200\n",
        "X_train = pad_sequences(X_train, maxlen = max_sequence_length, padding = 'post')\n",
        "X_val = pad_sequences(X_val, maxlen = max_sequence_length, padding = 'post')\n",
        "\n",
        "label_encoder = LabelEncoder()\n",
        "label_encoder.fit(train_df[label_column])\n",
        "y_train = label_encoder.transform(train_df[label_column])\n",
        "y_val = label_encoder.transform(val_df[label_column])\n",
        "\n",
        "y_train = to_categorical(y_train)\n",
        "y_val = to_categorical(y_val)"
      ],
      "metadata": {
        "id": "Fmpxp9atFhSm"
      },
      "execution_count": 70,
      "outputs": []
    },
    {
      "cell_type": "code",
      "source": [
        "# CONFIGURATION 1\n",
        "\n",
        "# model = Sequential()\n",
        "# model.add(Embedding(max_words, 100, input_length=max_sequence_length))\n",
        "# model.add(Bidirectional(LSTM(128, return_sequences=True)))\n",
        "# model.add(Bidirectional(LSTM(64)))\n",
        "# model.add(Dense(len(label_encoder.classes_), activation = 'softmax'))\n",
        "\n",
        "# CONFIGURATION 2\n",
        "\n",
        "# model = Sequential()\n",
        "# model.add(Embedding(max_words, 100, input_length=max_sequence_length))\n",
        "# model.add(LSTM(128, return_sequences=True))\n",
        "# model.add(LSTM(64))  # No longer bidirectional\n",
        "# model.add(Dense(len(label_encoder.classes_), activation='softmax'))\n",
        "\n",
        "# CONFGURATION 3\n",
        "\n",
        "model = Sequential()\n",
        "model.add(Embedding(max_words, 100, input_length=max_sequence_length))\n",
        "model.add(Bidirectional(GRU(128, return_sequences=True)))\n",
        "model.add(Bidirectional(GRU(64)))\n",
        "model.add(Dense(len(label_encoder.classes_), activation='softmax'))\n"
      ],
      "metadata": {
        "id": "TYT6PGvpTQgZ"
      },
      "execution_count": 93,
      "outputs": []
    },
    {
      "cell_type": "code",
      "source": [
        "model.compile(optimizer='adam', loss='categorical_crossentropy', metrics=['accuracy'])\n",
        "model.summary()"
      ],
      "metadata": {
        "colab": {
          "base_uri": "https://localhost:8080/"
        },
        "id": "ODC6PBR0U_eU",
        "outputId": "e51ff2cc-5db0-4057-8c33-44f4ce29bda5"
      },
      "execution_count": 94,
      "outputs": [
        {
          "output_type": "stream",
          "name": "stdout",
          "text": [
            "Model: \"sequential_4\"\n",
            "_________________________________________________________________\n",
            " Layer (type)                Output Shape              Param #   \n",
            "=================================================================\n",
            " embedding_4 (Embedding)     (None, 200, 100)          1000000   \n",
            "                                                                 \n",
            " bidirectional_4 (Bidirecti  (None, 200, 256)          176640    \n",
            " onal)                                                           \n",
            "                                                                 \n",
            " bidirectional_5 (Bidirecti  (None, 128)               123648    \n",
            " onal)                                                           \n",
            "                                                                 \n",
            " dense_2 (Dense)             (None, 2)                 258       \n",
            "                                                                 \n",
            "=================================================================\n",
            "Total params: 1300546 (4.96 MB)\n",
            "Trainable params: 1300546 (4.96 MB)\n",
            "Non-trainable params: 0 (0.00 Byte)\n",
            "_________________________________________________________________\n"
          ]
        }
      ]
    },
    {
      "cell_type": "code",
      "source": [
        "from tensorflow.keras.utils import plot_model\n",
        "plot_model(model, to_file='model_plot.png', show_shapes=True, show_layer_names=True)"
      ],
      "metadata": {
        "id": "wW8d3N6aiwp-",
        "outputId": "1e309a1b-e8fb-491e-f91b-fbe3925e2632",
        "colab": {
          "base_uri": "https://localhost:8080/",
          "height": 533
        }
      },
      "execution_count": 95,
      "outputs": [
        {
          "output_type": "execute_result",
          "data": {
            "image/png": "[encoded data removed]",
            "text/plain": [
              "<IPython.core.display.Image object>"
            ]
          },
          "metadata": {},
          "execution_count": 95
        }
      ]
    },
    {
      "cell_type": "code",
      "source": [
        "batch_size = 64\n",
        "epochs = 10\n",
        "\n",
        "model.fit(X_train, y_train, batch_size=batch_size, epochs=epochs, validation_data=(X_val, y_val))\n"
      ],
      "metadata": {
        "colab": {
          "base_uri": "https://localhost:8080/"
        },
        "id": "TMB50pFUXA6y",
        "outputId": "f804f760-5fbd-4a3d-f6e6-0cd402b6fd5a"
      },
      "execution_count": null,
      "outputs": [
        {
          "output_type": "stream",
          "name": "stdout",
          "text": [
            "Epoch 1/10\n",
            "125/125 [==============================] - 178s 1s/step - loss: 0.6514 - accuracy: 0.6061 - val_loss: 0.5770 - val_accuracy: 0.7025\n",
            "Epoch 2/10\n",
            "125/125 [==============================] - 160s 1s/step - loss: 0.3979 - accuracy: 0.8248 - val_loss: 0.4802 - val_accuracy: 0.7700\n",
            "Epoch 3/10\n",
            "125/125 [==============================] - 168s 1s/step - loss: 0.2219 - accuracy: 0.9125 - val_loss: 0.5664 - val_accuracy: 0.7850\n",
            "Epoch 4/10\n",
            "125/125 [==============================] - 169s 1s/step - loss: 0.1055 - accuracy: 0.9614 - val_loss: 0.7429 - val_accuracy: 0.7385\n",
            "Epoch 5/10\n",
            "125/125 [==============================] - 169s 1s/step - loss: 0.0517 - accuracy: 0.9822 - val_loss: 0.9698 - val_accuracy: 0.7730\n",
            "Epoch 6/10\n",
            " 88/125 [====================>.........] - ETA: 44s - loss: 0.0262 - accuracy: 0.9927"
          ]
        }
      ]
    },
    {
      "cell_type": "code",
      "source": [
        "y_pred = model.predict(X_val)\n",
        "y_pred_classes = np.argmax(y_pred, axis=1)\n",
        "y_true = np.argmax(y_val, axis=1)\n"
      ],
      "metadata": {
        "colab": {
          "base_uri": "https://localhost:8080/"
        },
        "id": "BZCcZxaGXYr4",
        "outputId": "edd41ee0-dddb-49c6-b8e5-e664713a5335"
      },
      "execution_count": 89,
      "outputs": [
        {
          "output_type": "stream",
          "name": "stdout",
          "text": [
            "63/63 [==============================] - 10s 147ms/step\n"
          ]
        }
      ]
    },
    {
      "cell_type": "code",
      "source": [
        "from sklearn.metrics import accuracy_score, precision_score, recall_score, f1_score, classification_report\n",
        "\n",
        "# Generate Classification Report\n",
        "classification_rep = classification_report(y_true, y_pred_classes)\n",
        "\n",
        "# Print the performance metrics\n",
        "print(\"\\nClassification Report:\")\n",
        "print(classification_rep)\n"
      ],
      "metadata": {
        "id": "lQbv6En6hY-5",
        "outputId": "467d12e5-6b5f-4c35-bbe9-f332b4b68b96",
        "colab": {
          "base_uri": "https://localhost:8080/"
        }
      },
      "execution_count": 90,
      "outputs": [
        {
          "output_type": "stream",
          "name": "stdout",
          "text": [
            "\n",
            "Classification Report:\n",
            "              precision    recall  f1-score   support\n",
            "\n",
            "           0       0.70      0.85      0.76       971\n",
            "           1       0.82      0.65      0.73      1029\n",
            "\n",
            "    accuracy                           0.75      2000\n",
            "   macro avg       0.76      0.75      0.74      2000\n",
            "weighted avg       0.76      0.75      0.74      2000\n",
            "\n"
          ]
        }
      ]
    }
  ]
}